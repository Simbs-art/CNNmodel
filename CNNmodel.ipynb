{
  "nbformat": 4,
  "nbformat_minor": 0,
  "metadata": {
    "colab": {
      "provenance": [],
      "gpuType": "L4",
      "machine_shape": "hm"
    },
    "kernelspec": {
      "name": "python3",
      "display_name": "Python 3"
    },
    "language_info": {
      "name": "python"
    },
    "accelerator": "GPU"
  },
  "cells": [
    {
      "cell_type": "markdown",
      "source": [
        "**PART 1: Data Loading and Exploration**"
      ],
      "metadata": {
        "id": "iJa9k4_w7Ok4"
      }
    },
    {
      "cell_type": "code",
      "source": [
        "import tensorflow as tf\n",
        "from tensorflow import keras\n",
        "from tensorflow.keras import layers, models, callbacks\n",
        "from tensorflow.keras.models import Sequential\n",
        "from tensorflow.keras.layers import Conv2D, MaxPooling2D, Flatten, Dense, Dropout\n",
        "import numpy as np\n",
        "import matplotlib.pyplot as plt\n",
        "import seaborn as sns\n",
        "from sklearn.metrics import classification_report, confusion_matrix\n",
        "import warnings\n",
        "warnings.filterwarnings('ignore')"
      ],
      "metadata": {
        "id": "cizBE5967bce"
      },
      "execution_count": 1,
      "outputs": []
    },
    {
      "cell_type": "markdown",
      "source": [
        "STEP 1: Loading the CIFAR-10 dataset"
      ],
      "metadata": {
        "id": "dEKqxNdW8VVd"
      }
    },
    {
      "cell_type": "code",
      "source": [
        "\"\"\"\n",
        "CIFAR-10 Dataset Overview:\n",
        "- 60,000 32x32 color images in 10 classes\n",
        "- 50,000 training images, 10,000 test images\n",
        "- Classes: airplane, automobile, bird, cat, deer, dog, frog, horse, ship, truck\n",
        "\"\"\"\n",
        "\n",
        "# Loading the dataset (this is built into TensorFlow)\n",
        "(x_train, y_train), (x_test, y_test) = keras.datasets.cifar10.load_data()\n",
        "\n",
        "# Define the class names\n",
        "class_names = ['airplane', 'automobile', 'bird', 'cat', 'deer',\n",
        "               'dog', 'frog', 'horse', 'ship', 'truck']\n",
        "\n",
        "print(\"Dataset loaded successfully!\")\n",
        "print(f\"Training data shape: {x_train.shape}\")\n",
        "print(f\"Training labels shape: {y_train.shape}\")\n",
        "print(f\"Test data shape: {x_test.shape}\")\n",
        "print(f\"Test labels shape: {y_test.shape}\")\n"
      ],
      "metadata": {
        "colab": {
          "base_uri": "https://localhost:8080/"
        },
        "id": "kgrjP1ch70cb",
        "outputId": "7aeb86f7-dd56-48ba-9617-68ff6055af04"
      },
      "execution_count": null,
      "outputs": [
        {
          "output_type": "stream",
          "name": "stdout",
          "text": [
            "Downloading data from https://www.cs.toronto.edu/~kriz/cifar-10-python.tar.gz\n",
            "\u001b[1m170498071/170498071\u001b[0m \u001b[32m━━━━━━━━━━━━━━━━━━━━\u001b[0m\u001b[37m\u001b[0m \u001b[1m2s\u001b[0m 0us/step\n",
            "Dataset loaded successfully!\n",
            "Training data shape: (50000, 32, 32, 3)\n",
            "Training labels shape: (50000, 1)\n",
            "Test data shape: (10000, 32, 32, 3)\n",
            "Test labels shape: (10000, 1)\n"
          ]
        }
      ]
    },
    {
      "cell_type": "code",
      "source": [
        "from tensorflow.keras.utils import to_categorical\n",
        "y_train_cat = to_categorical(y_train, 10)\n",
        "y_test_cat = to_categorical(y_test, 10)"
      ],
      "metadata": {
        "id": "9BfeXqBlZT4f"
      },
      "execution_count": null,
      "outputs": []
    },
    {
      "cell_type": "markdown",
      "source": [
        "STEP 2: Explore and Understand the data"
      ],
      "metadata": {
        "id": "gNppmow59_Vp"
      }
    },
    {
      "cell_type": "code",
      "source": [
        "# Some basic statistics\n",
        "print(\"\\n=== Dataset Statistics ===\")\n",
        "print(f\"Number of classes: {len(class_names)}\")\n",
        "print(f\"Image dimensions: {x_train.shape[1:3]}\")\n",
        "print(f\"Number of color channels: {x_train.shape[3]}\")\n",
        "print(f\"Pixel value range: {x_train.min()} to {x_train.max()}\")\n",
        "\n",
        "# Check the distribution of classes\n",
        "unique, counts = np.unique(y_train, return_counts=True)\n",
        "print(f\"\\nClass distribution in training set:\")\n",
        "for i, (class_idx, count) in enumerate(zip(unique, counts)):\n",
        "    print(f\"{class_names[class_idx]}: {count} images\")\n"
      ],
      "metadata": {
        "colab": {
          "base_uri": "https://localhost:8080/"
        },
        "id": "4tmwGZe7-MXZ",
        "outputId": "1ff7ecce-9caf-4221-a451-df1dd85f6a60"
      },
      "execution_count": null,
      "outputs": [
        {
          "output_type": "stream",
          "name": "stdout",
          "text": [
            "\n",
            "=== Dataset Statistics ===\n",
            "Number of classes: 10\n",
            "Image dimensions: (32, 32)\n",
            "Number of color channels: 3\n",
            "Pixel value range: 0 to 255\n",
            "\n",
            "Class distribution in training set:\n",
            "airplane: 5000 images\n",
            "automobile: 5000 images\n",
            "bird: 5000 images\n",
            "cat: 5000 images\n",
            "deer: 5000 images\n",
            "dog: 5000 images\n",
            "frog: 5000 images\n",
            "horse: 5000 images\n",
            "ship: 5000 images\n",
            "truck: 5000 images\n"
          ]
        }
      ]
    },
    {
      "cell_type": "markdown",
      "source": [
        "STEP 3: Visualize Sample Images"
      ],
      "metadata": {
        "id": "Qw3v1CrNDZRk"
      }
    },
    {
      "cell_type": "code",
      "source": [
        "def plot_sample_images(images, labels, class_names, num_samples=25):\n",
        "    \"\"\"\n",
        "    Plot a grid of sample images with their labels\n",
        "    \"\"\"\n",
        "    plt.figure(figsize=(12, 12))\n",
        "    for i in range(num_samples):\n",
        "        plt.subplot(5, 5, i + 1)\n",
        "        plt.imshow(images[i])\n",
        "        plt.title(f'{class_names[labels[i][0]]}')\n",
        "        plt.axis('off')\n",
        "\n",
        "    plt.suptitle('Sample Images from CIFAR-10 Dataset', fontsize=16)\n",
        "    plt.tight_layout()\n",
        "    plt.show()\n",
        "\n",
        "# Display sample images\n",
        "print(\"\\n=== Sample Images ===\")\n",
        "plot_sample_images(x_train, y_train, class_names)"
      ],
      "metadata": {
        "colab": {
          "base_uri": "https://localhost:8080/",
          "height": 1000
        },
        "id": "icau0jLIDlef",
        "outputId": "6003ad91-18ad-470e-b33f-717a5c81f47c"
      },
      "execution_count": null,
      "outputs": [
        {
          "output_type": "stream",
          "name": "stdout",
          "text": [
            "\n",
            "=== Sample Images ===\n"
          ]
        },
        {
          "output_type": "display_data",
          "data": {
            "text/plain": [
              "<Figure size 1200x1200 with 25 Axes>"
            ],
            "image/png": "[encoded data removed]"
          },
          "metadata": {}
        }
      ]
    },
    {
      "cell_type": "markdown",
      "source": [
        "STEP 4: Analyze Class Distribution"
      ],
      "metadata": {
        "id": "EVKDEQWHHrMY"
      }
    },
    {
      "cell_type": "code",
      "source": [
        "def plot_class_distribution(labels, class_names, title=\"Class Distribution\"):\n",
        "    \"\"\"\n",
        "    Plot the distribution of classes in the dataset\n",
        "    \"\"\"\n",
        "    unique, counts = np.unique(labels, return_counts=True)\n",
        "\n",
        "    plt.figure(figsize=(12, 6))\n",
        "    bars = plt.bar(range(len(class_names)), counts, color='skyblue', edgecolor='navy')\n",
        "    plt.xlabel('Classes')\n",
        "    plt.ylabel('Number of Samples')\n",
        "    plt.title(title)\n",
        "    plt.xticks(range(len(class_names)), class_names, rotation=45)\n",
        "\n",
        "    # Add count labels on bars\n",
        "    for bar, count in zip(bars, counts):\n",
        "        plt.text(bar.get_x() + bar.get_width()/2, bar.get_height() + 50,\n",
        "                str(count), ha='center', va='bottom')\n",
        "\n",
        "    plt.tight_layout()\n",
        "    plt.show()\n",
        "\n",
        "print(\"\\n=== Class Distribution Analysis ===\")\n",
        "plot_class_distribution(y_train, class_names, \"Training Set Class Distribution\")\n",
        "\n",
        "for cls, count in zip(class_names, counts):\n",
        "    print(f\"{cls}: {count}\")\n"
      ],
      "metadata": {
        "colab": {
          "base_uri": "https://localhost:8080/",
          "height": 715
        },
        "id": "fWfTKjOIHzB7",
        "outputId": "d8c94529-8156-4748-cb88-c1b6ab59ccdf"
      },
      "execution_count": null,
      "outputs": [
        {
          "output_type": "stream",
          "name": "stdout",
          "text": [
            "\n",
            "=== Class Distribution Analysis ===\n"
          ]
        },
        {
          "output_type": "display_data",
          "data": {
            "text/plain": [
              "<Figure size 1200x600 with 1 Axes>"
            ],
            "image/png": "[encoded data removed]"
          },
          "metadata": {}
        },
        {
          "output_type": "stream",
          "name": "stdout",
          "text": [
            "airplane: 5000\n",
            "automobile: 5000\n",
            "bird: 5000\n",
            "cat: 5000\n",
            "deer: 5000\n",
            "dog: 5000\n",
            "frog: 5000\n",
            "horse: 5000\n",
            "ship: 5000\n",
            "truck: 5000\n"
          ]
        }
      ]
    },
    {
      "cell_type": "markdown",
      "source": [
        "STEP 5: Examine Pixel Values"
      ],
      "metadata": {
        "id": "uJ1K6C7vQyix"
      }
    },
    {
      "cell_type": "code",
      "source": [
        "print(f\"\\n=== Training Images Analysis ===\")\n",
        "print(f\"Image shape: {x_train.shape}\")\n",
        "print(f\"Data type: {x_train.dtype}\")\n",
        "print(f\"Min pixel value: {x_train.min()}\")\n",
        "print(f\"Max pixel value: {x_train.max()}\")\n",
        "print(f\"Mean pixel value: {x_train.mean():.2f}\")\n",
        "print(f\"Standard deviation: {x_train.std():.2f}\")\n",
        "\n",
        "# Plot histogram of pixel values\n",
        "plt.figure(figsize=(10, 4))\n",
        "plt.subplot(1, 2, 1)\n",
        "plt.hist(x_train.flatten(), bins=50, alpha=0.7, color='blue', edgecolor='black')\n",
        "plt.xlabel('Pixel Values')\n",
        "plt.ylabel('Frequency')\n",
        "plt.title('Distribution of Pixel Values')\n"
      ],
      "metadata": {
        "colab": {
          "base_uri": "https://localhost:8080/",
          "height": 574
        },
        "id": "PoKh9hNiRKz9",
        "outputId": "ee41bedf-e453-4648-a008-2e88baeb9033"
      },
      "execution_count": null,
      "outputs": [
        {
          "output_type": "stream",
          "name": "stdout",
          "text": [
            "\n",
            "=== Training Images Analysis ===\n",
            "Image shape: (50000, 32, 32, 3)\n",
            "Data type: uint8\n",
            "Min pixel value: 0\n",
            "Max pixel value: 255\n",
            "Mean pixel value: 120.71\n",
            "Standard deviation: 64.15\n"
          ]
        },
        {
          "output_type": "execute_result",
          "data": {
            "text/plain": [
              "Text(0.5, 1.0, 'Distribution of Pixel Values')"
            ]
          },
          "metadata": {},
          "execution_count": 6
        },
        {
          "output_type": "display_data",
          "data": {
            "text/plain": [
              "<Figure size 1000x400 with 1 Axes>"
            ],
            "image/png": "[encoded data removed]"
          },
          "metadata": {}
        }
      ]
    },
    {
      "cell_type": "markdown",
      "source": [
        "**PART 2:** **DATA PREPROCESSING**\n",
        "\n"
      ],
      "metadata": {
        "id": "0DEgIZUM1yX6"
      }
    },
    {
      "cell_type": "markdown",
      "source": [
        "STEP 1: Normalization"
      ],
      "metadata": {
        "id": "kCQSSDHs3wMh"
      }
    },
    {
      "cell_type": "code",
      "source": [
        "\"\"\"\n",
        "WHY NORMALIZE?\n",
        "- Neural networks work better with smaller numbers (0-1 range)\n",
        "- Prevents gradient problems during training\n",
        "- Makes training faster and more stable\n",
        "- All features (pixels) are on the same scale\n",
        "\"\"\"\n",
        "\n",
        "# Before Normalization\n",
        "x_train.mean()\n",
        "x_train.max()\n",
        "x_train.min()\n",
        "print(\"Before normalization:\")\n",
        "print(f\"Min pixel value: {x_train.min()}\")\n",
        "print(f\"Max pixel value: {x_train.max()}\")\n",
        "print(f\"Mean pixel value: {x_train.mean():.2f}\")\n",
        "\n",
        "# Normalize the data (divide by 255 to get 0-1 range)\n",
        "x_train_normalized = x_train.astype('float32') / 255.0\n",
        "x_test_normalized = x_test.astype('float32') / 255.0\n",
        "\n",
        "# After Normalization\n",
        "x_train_normalized.mean()\n",
        "x_train_normalized.max()\n",
        "x_train_normalized.min()\n",
        "print(\"\\nAfter normalization:\")\n",
        "print(f\"Min pixel value: {x_train_normalized.min()}\")\n",
        "print(f\"Max pixel value: {x_train_normalized.max()}\")\n",
        "print(f\"Mean pixel value: {x_train_normalized.mean():.2f}\")"
      ],
      "metadata": {
        "colab": {
          "base_uri": "https://localhost:8080/"
        },
        "id": "2tC5ZjY11wa4",
        "outputId": "c707c592-399d-4760-a79a-d6f4dfb332bd"
      },
      "execution_count": null,
      "outputs": [
        {
          "output_type": "stream",
          "name": "stdout",
          "text": [
            "Before normalization:\n",
            "Min pixel value: 0\n",
            "Max pixel value: 255\n",
            "Mean pixel value: 120.71\n",
            "\n",
            "After normalization:\n",
            "Min pixel value: 0.0\n",
            "Max pixel value: 1.0\n",
            "Mean pixel value: 0.47\n"
          ]
        }
      ]
    },
    {
      "cell_type": "markdown",
      "source": [
        "STEP 2: Encoding"
      ],
      "metadata": {
        "id": "jitL0vWf92Gp"
      }
    },
    {
      "cell_type": "code",
      "source": [
        "# Before one-hot encoding\n",
        "y_train.shape\n",
        "y_train[:10].flatten()\n",
        "y_train.dtype\n",
        "print(\"Before one-hot encoding:\")\n",
        "print(f\"Label shape: {y_train.shape}\")\n",
        "print(f\"First 10 labels: {y_train[:10].flatten()}\")\n",
        "print(f\"Label data type: {y_train.dtype}\")\n",
        "\n",
        "# Convert to one-hot encoding\n",
        "num_classes = 10\n",
        "y_train_onehot = keras.utils.to_categorical(y_train, num_classes)\n",
        "y_test_onehot = keras.utils.to_categorical(y_test, num_classes)\n",
        "\n",
        "# After one-hot encoding\n",
        "y_train_onehot.shape\n",
        "y_train_onehot[0]\n",
        "y_train_onehot[1]\n",
        "y_train_onehot.dtype\n",
        "y_train_onehot[:10]\n",
        "\n",
        "print(\"\\nAfter one-hot encoding:\")\n",
        "print(f\"Label shape: {y_train_onehot.shape}\")\n",
        "print(f\"First label: {y_train_onehot[0]}\")\n",
        "print(f\"Second label: {y_train_onehot[1]}\")\n",
        "print(f\"Label data type: {y_train_onehot.dtype}\")\n",
        "print(f\"First 10 labels: {y_train_onehot[:10]}\")\n"
      ],
      "metadata": {
        "colab": {
          "base_uri": "https://localhost:8080/"
        },
        "id": "sImRpxl296jw",
        "outputId": "e46b2a60-52b4-4b4f-dd66-3eaab5a0087b"
      },
      "execution_count": null,
      "outputs": [
        {
          "output_type": "stream",
          "name": "stdout",
          "text": [
            "Before one-hot encoding:\n",
            "Label shape: (50000, 1)\n",
            "First 10 labels: [6 9 9 4 1 1 2 7 8 3]\n",
            "Label data type: uint8\n",
            "\n",
            "After one-hot encoding:\n",
            "Label shape: (50000, 10)\n",
            "First label: [0. 0. 0. 0. 0. 0. 1. 0. 0. 0.]\n",
            "Second label: [0. 0. 0. 0. 0. 0. 0. 0. 0. 1.]\n",
            "Label data type: float64\n",
            "First 10 labels: [[0. 0. 0. 0. 0. 0. 1. 0. 0. 0.]\n",
            " [0. 0. 0. 0. 0. 0. 0. 0. 0. 1.]\n",
            " [0. 0. 0. 0. 0. 0. 0. 0. 0. 1.]\n",
            " [0. 0. 0. 0. 1. 0. 0. 0. 0. 0.]\n",
            " [0. 1. 0. 0. 0. 0. 0. 0. 0. 0.]\n",
            " [0. 1. 0. 0. 0. 0. 0. 0. 0. 0.]\n",
            " [0. 0. 1. 0. 0. 0. 0. 0. 0. 0.]\n",
            " [0. 0. 0. 0. 0. 0. 0. 1. 0. 0.]\n",
            " [0. 0. 0. 0. 0. 0. 0. 0. 1. 0.]\n",
            " [0. 0. 0. 1. 0. 0. 0. 0. 0. 0.]]\n"
          ]
        }
      ]
    },
    {
      "cell_type": "markdown",
      "source": [
        "STEP 3: Create Validation Set"
      ],
      "metadata": {
        "id": "5gRNiMUIIlGV"
      }
    },
    {
      "cell_type": "code",
      "source": [
        "\"\"\"\n",
        "WHY VALIDATION SET?\n",
        "- To monitor training progress\n",
        "- Detect overfitting early\n",
        "- Choose best model hyperparameters\n",
        "- Final test set should only be used once at the end\n",
        "\"\"\"\n",
        "\n",
        "# Set random seed for reproducibility\n",
        "np.random.seed(42)\n",
        "tf.random.set_seed(42)\n",
        "\n",
        "# Create validation split from training data\n",
        "validation_split = 0.2  # 20% of training data for validation\n",
        "split_index = int(len(x_train_normalized) * (1 - validation_split))\n",
        "\n",
        "# Split the data\n",
        "x_train_final = x_train_normalized[:split_index]\n",
        "y_train_final = y_train_onehot[:split_index]\n",
        "\n",
        "x_val = x_train_normalized[split_index:]\n",
        "y_val = y_train_onehot[split_index:]\n",
        "\n",
        "# Keep test set as is\n",
        "x_test_final = x_test_normalized\n",
        "y_test_final = y_test_onehot\n",
        "\n",
        "print(\"Data split summary:\")\n",
        "print(f\"Training set: {x_train_final.shape[0]} images\")\n",
        "print(f\"Validation set: {x_val.shape[0]} images\")\n",
        "print(f\"Test set: {x_test_final.shape[0]} images\")\n",
        "print(f\"Total: {x_train_final.shape[0] + x_val.shape[0] + x_test_final.shape[0]} images\")"
      ],
      "metadata": {
        "colab": {
          "base_uri": "https://localhost:8080/"
        },
        "id": "dZW4GWghIr3d",
        "outputId": "dd10e5bc-4a44-4622-f5a4-482afe747ed6"
      },
      "execution_count": null,
      "outputs": [
        {
          "output_type": "stream",
          "name": "stdout",
          "text": [
            "Data split summary:\n",
            "Training set: 40000 images\n",
            "Validation set: 10000 images\n",
            "Test set: 10000 images\n",
            "Total: 60000 images\n"
          ]
        }
      ]
    },
    {
      "cell_type": "markdown",
      "source": [
        "STEP 4: Data Augmentation"
      ],
      "metadata": {
        "id": "dskD199YLksS"
      }
    },
    {
      "cell_type": "code",
      "source": [
        "\"\"\"\n",
        "WHY DATA AUGMENTATION?\n",
        "- Artificially increases dataset size\n",
        "- Makes model more robust to variations\n",
        "- Reduces overfitting\n",
        "- Common augmentations: rotation, flip, zoom, shift\n",
        "\"\"\"\n",
        "\n",
        "# Create data augmentation pipeline\n",
        "data_augmentation = keras.Sequential([\n",
        "    layers.RandomFlip(\"horizontal\"),   # Flip images left-right\n",
        "    layers.RandomRotation(0.1),        # Rotate up to 10% (36 degrees)\n",
        "    layers.RandomZoom(0.1),             # Zoom in/out up to 10%\n",
        "    layers.RandomTranslation(0.1, 0.1),  # Shift up to 10% in both directions\n",
        "])"
      ],
      "metadata": {
        "id": "TQ7MZFk0LuF6"
      },
      "execution_count": null,
      "outputs": []
    },
    {
      "cell_type": "markdown",
      "source": [
        "**PART 3: CNN MODEL ARCHITECTURE**"
      ],
      "metadata": {
        "id": "WzimR9wObksa"
      }
    },
    {
      "cell_type": "code",
      "source": [
        "# Understanding CNN building blocks\n",
        "\"\"\"\n",
        "EXPLANATION OF CNN LAYERS:\n",
        "\n",
        "1. CONVOLUTIONAL LAYER (Conv2D):\n",
        "   - Detects features like edges, shapes, patterns\n",
        "   - Uses filters/kernels to scan the image\n",
        "   - Example: 32 filters of size 3x3\n",
        "\n",
        "2. ACTIVATION LAYER (ReLU):\n",
        "   - Introduces non-linearity\n",
        "   - ReLU(x) = max(0, x) - removes negative values\n",
        "\n",
        "3. POOLING LAYER (MaxPooling2D):\n",
        "   - Reduces image size while keeping important features\n",
        "   - Makes model more efficient and less prone to overfitting\n",
        "\n",
        "4. DROPOUT LAYER:\n",
        "   - Randomly turns off some neurons during training\n",
        "   - Prevents overfitting\n",
        "\n",
        "5. DENSE LAYER (Fully Connected):\n",
        "   - Traditional neural network layer\n",
        "   - Final layer outputs probabilities for each class\n",
        "\"\"\""
      ],
      "metadata": {
        "id": "pUFp2dvGQp7-"
      },
      "execution_count": null,
      "outputs": []
    },
    {
      "cell_type": "markdown",
      "source": [
        "STEP 1: Build CNN"
      ],
      "metadata": {
        "id": "OZopfMr_dDmU"
      }
    },
    {
      "cell_type": "code",
      "source": [
        "def create_custom_cnn(input_shape=(32, 32, 3), num_classes=10):\n",
        "    model = models.Sequential([\n",
        "        # Shape of input images\n",
        "        layers.Input(shape=input_shape),\n",
        "\n",
        "        # Feature Detection\n",
        "        layers.Conv2D(32, (3, 3), activation='relu', padding='same'),\n",
        "        layers.Conv2D(32, (3, 3), activation='relu', padding='same'),\n",
        "        layers.MaxPooling2D((2, 2)),\n",
        "        layers.Dropout(0.25),\n",
        "\n",
        "        # More Complex Features\n",
        "        layers.Conv2D(64, (3, 3), activation='relu', padding='same'),\n",
        "        layers.Conv2D(64, (3, 3), activation='relu', padding='same'),\n",
        "        layers.MaxPooling2D((2, 2)),\n",
        "        layers.Dropout(0.25),\n",
        "\n",
        "        # High-Level Features\n",
        "        layers.Conv2D(128, (3, 3), activation='relu', padding='same'),\n",
        "        layers.Conv2D(128, (3, 3), activation='relu', padding='same'),\n",
        "        layers.MaxPooling2D((2, 2)),\n",
        "        layers.Dropout(0.25),\n",
        "\n",
        "        # Classification Head\n",
        "        layers.Flatten(),  # Convert 2D feature maps to 1D\n",
        "        layers.Dense(512, activation='relu'),\n",
        "        layers.Dropout(0.5),\n",
        "        layers.Dense(256, activation='relu'),\n",
        "        layers.Dropout(0.5),\n",
        "        layers.Dense(num_classes, activation='softmax')  # Output probabilities\n",
        "    ])\n",
        "\n",
        "    return model\n",
        "\n",
        "# Create the model\n",
        "print(\"Creating custom CNN model...\")\n",
        "custom_cnn = create_custom_cnn()\n",
        "\n",
        "# Display model architecture\n",
        "print(\"\\n=== MODEL ARCHITECTURE ===\")\n",
        "custom_cnn.summary()\n"
      ],
      "metadata": {
        "colab": {
          "base_uri": "https://localhost:8080/",
          "height": 760
        },
        "id": "qXxrECnvdHzQ",
        "outputId": "44fb7e75-c830-4311-c76f-48f46efc1f7e"
      },
      "execution_count": null,
      "outputs": [
        {
          "output_type": "stream",
          "name": "stdout",
          "text": [
            "Creating custom CNN model...\n",
            "\n",
            "=== MODEL ARCHITECTURE ===\n"
          ]
        },
        {
          "output_type": "display_data",
          "data": {
            "text/plain": [
              "\u001b[1mModel: \"sequential_1\"\u001b[0m\n"
            ],
            "text/html": [
              "<pre style=\"white-space:pre;overflow-x:auto;line-height:normal;font-family:Menlo,'DejaVu Sans Mono',consolas,'Courier New',monospace\"><span style=\"font-weight: bold\">Model: \"sequential_1\"</span>\n",
              "</pre>\n"
            ]
          },
          "metadata": {}
        },
        {
          "output_type": "display_data",
          "data": {
            "text/plain": [
              "┏━━━━━━━━━━━━━━━━━━━━━━━━━━━━━━━━━┳━━━━━━━━━━━━━━━━━━━━━━━━┳━━━━━━━━━━━━━━━┓\n",
              "┃\u001b[1m \u001b[0m\u001b[1mLayer (type)                   \u001b[0m\u001b[1m \u001b[0m┃\u001b[1m \u001b[0m\u001b[1mOutput Shape          \u001b[0m\u001b[1m \u001b[0m┃\u001b[1m \u001b[0m\u001b[1m      Param #\u001b[0m\u001b[1m \u001b[0m┃\n",
              "┡━━━━━━━━━━━━━━━━━━━━━━━━━━━━━━━━━╇━━━━━━━━━━━━━━━━━━━━━━━━╇━━━━━━━━━━━━━━━┩\n",
              "│ conv2d (\u001b[38;5;33mConv2D\u001b[0m)                 │ (\u001b[38;5;45mNone\u001b[0m, \u001b[38;5;34m32\u001b[0m, \u001b[38;5;34m32\u001b[0m, \u001b[38;5;34m32\u001b[0m)     │           \u001b[38;5;34m896\u001b[0m │\n",
              "├─────────────────────────────────┼────────────────────────┼───────────────┤\n",
              "│ conv2d_1 (\u001b[38;5;33mConv2D\u001b[0m)               │ (\u001b[38;5;45mNone\u001b[0m, \u001b[38;5;34m32\u001b[0m, \u001b[38;5;34m32\u001b[0m, \u001b[38;5;34m32\u001b[0m)     │         \u001b[38;5;34m9,248\u001b[0m │\n",
              "├─────────────────────────────────┼────────────────────────┼───────────────┤\n",
              "│ max_pooling2d (\u001b[38;5;33mMaxPooling2D\u001b[0m)    │ (\u001b[38;5;45mNone\u001b[0m, \u001b[38;5;34m16\u001b[0m, \u001b[38;5;34m16\u001b[0m, \u001b[38;5;34m32\u001b[0m)     │             \u001b[38;5;34m0\u001b[0m │\n",
              "├─────────────────────────────────┼────────────────────────┼───────────────┤\n",
              "│ dropout (\u001b[38;5;33mDropout\u001b[0m)               │ (\u001b[38;5;45mNone\u001b[0m, \u001b[38;5;34m16\u001b[0m, \u001b[38;5;34m16\u001b[0m, \u001b[38;5;34m32\u001b[0m)     │             \u001b[38;5;34m0\u001b[0m │\n",
              "├─────────────────────────────────┼────────────────────────┼───────────────┤\n",
              "│ conv2d_2 (\u001b[38;5;33mConv2D\u001b[0m)               │ (\u001b[38;5;45mNone\u001b[0m, \u001b[38;5;34m16\u001b[0m, \u001b[38;5;34m16\u001b[0m, \u001b[38;5;34m64\u001b[0m)     │        \u001b[38;5;34m18,496\u001b[0m │\n",
              "├─────────────────────────────────┼────────────────────────┼───────────────┤\n",
              "│ conv2d_3 (\u001b[38;5;33mConv2D\u001b[0m)               │ (\u001b[38;5;45mNone\u001b[0m, \u001b[38;5;34m16\u001b[0m, \u001b[38;5;34m16\u001b[0m, \u001b[38;5;34m64\u001b[0m)     │        \u001b[38;5;34m36,928\u001b[0m │\n",
              "├─────────────────────────────────┼────────────────────────┼───────────────┤\n",
              "│ max_pooling2d_1 (\u001b[38;5;33mMaxPooling2D\u001b[0m)  │ (\u001b[38;5;45mNone\u001b[0m, \u001b[38;5;34m8\u001b[0m, \u001b[38;5;34m8\u001b[0m, \u001b[38;5;34m64\u001b[0m)       │             \u001b[38;5;34m0\u001b[0m │\n",
              "├─────────────────────────────────┼────────────────────────┼───────────────┤\n",
              "│ dropout_1 (\u001b[38;5;33mDropout\u001b[0m)             │ (\u001b[38;5;45mNone\u001b[0m, \u001b[38;5;34m8\u001b[0m, \u001b[38;5;34m8\u001b[0m, \u001b[38;5;34m64\u001b[0m)       │             \u001b[38;5;34m0\u001b[0m │\n",
              "├─────────────────────────────────┼────────────────────────┼───────────────┤\n",
              "│ conv2d_4 (\u001b[38;5;33mConv2D\u001b[0m)               │ (\u001b[38;5;45mNone\u001b[0m, \u001b[38;5;34m8\u001b[0m, \u001b[38;5;34m8\u001b[0m, \u001b[38;5;34m128\u001b[0m)      │        \u001b[38;5;34m73,856\u001b[0m │\n",
              "├─────────────────────────────────┼────────────────────────┼───────────────┤\n",
              "│ conv2d_5 (\u001b[38;5;33mConv2D\u001b[0m)               │ (\u001b[38;5;45mNone\u001b[0m, \u001b[38;5;34m8\u001b[0m, \u001b[38;5;34m8\u001b[0m, \u001b[38;5;34m128\u001b[0m)      │       \u001b[38;5;34m147,584\u001b[0m │\n",
              "├─────────────────────────────────┼────────────────────────┼───────────────┤\n",
              "│ max_pooling2d_2 (\u001b[38;5;33mMaxPooling2D\u001b[0m)  │ (\u001b[38;5;45mNone\u001b[0m, \u001b[38;5;34m4\u001b[0m, \u001b[38;5;34m4\u001b[0m, \u001b[38;5;34m128\u001b[0m)      │             \u001b[38;5;34m0\u001b[0m │\n",
              "├─────────────────────────────────┼────────────────────────┼───────────────┤\n",
              "│ dropout_2 (\u001b[38;5;33mDropout\u001b[0m)             │ (\u001b[38;5;45mNone\u001b[0m, \u001b[38;5;34m4\u001b[0m, \u001b[38;5;34m4\u001b[0m, \u001b[38;5;34m128\u001b[0m)      │             \u001b[38;5;34m0\u001b[0m │\n",
              "├─────────────────────────────────┼────────────────────────┼───────────────┤\n",
              "│ flatten (\u001b[38;5;33mFlatten\u001b[0m)               │ (\u001b[38;5;45mNone\u001b[0m, \u001b[38;5;34m2048\u001b[0m)           │             \u001b[38;5;34m0\u001b[0m │\n",
              "├─────────────────────────────────┼────────────────────────┼───────────────┤\n",
              "│ dense (\u001b[38;5;33mDense\u001b[0m)                   │ (\u001b[38;5;45mNone\u001b[0m, \u001b[38;5;34m512\u001b[0m)            │     \u001b[38;5;34m1,049,088\u001b[0m │\n",
              "├─────────────────────────────────┼────────────────────────┼───────────────┤\n",
              "│ dropout_3 (\u001b[38;5;33mDropout\u001b[0m)             │ (\u001b[38;5;45mNone\u001b[0m, \u001b[38;5;34m512\u001b[0m)            │             \u001b[38;5;34m0\u001b[0m │\n",
              "├─────────────────────────────────┼────────────────────────┼───────────────┤\n",
              "│ dense_1 (\u001b[38;5;33mDense\u001b[0m)                 │ (\u001b[38;5;45mNone\u001b[0m, \u001b[38;5;34m256\u001b[0m)            │       \u001b[38;5;34m131,328\u001b[0m │\n",
              "├─────────────────────────────────┼────────────────────────┼───────────────┤\n",
              "│ dropout_4 (\u001b[38;5;33mDropout\u001b[0m)             │ (\u001b[38;5;45mNone\u001b[0m, \u001b[38;5;34m256\u001b[0m)            │             \u001b[38;5;34m0\u001b[0m │\n",
              "├─────────────────────────────────┼────────────────────────┼───────────────┤\n",
              "│ dense_2 (\u001b[38;5;33mDense\u001b[0m)                 │ (\u001b[38;5;45mNone\u001b[0m, \u001b[38;5;34m10\u001b[0m)             │         \u001b[38;5;34m2,570\u001b[0m │\n",
              "└─────────────────────────────────┴────────────────────────┴───────────────┘\n"
            ],
            "text/html": [
              "<pre style=\"white-space:pre;overflow-x:auto;line-height:normal;font-family:Menlo,'DejaVu Sans Mono',consolas,'Courier New',monospace\">┏━━━━━━━━━━━━━━━━━━━━━━━━━━━━━━━━━┳━━━━━━━━━━━━━━━━━━━━━━━━┳━━━━━━━━━━━━━━━┓\n",
              "┃<span style=\"font-weight: bold\"> Layer (type)                    </span>┃<span style=\"font-weight: bold\"> Output Shape           </span>┃<span style=\"font-weight: bold\">       Param # </span>┃\n",
              "┡━━━━━━━━━━━━━━━━━━━━━━━━━━━━━━━━━╇━━━━━━━━━━━━━━━━━━━━━━━━╇━━━━━━━━━━━━━━━┩\n",
              "│ conv2d (<span style=\"color: #0087ff; text-decoration-color: #0087ff\">Conv2D</span>)                 │ (<span style=\"color: #00d7ff; text-decoration-color: #00d7ff\">None</span>, <span style=\"color: #00af00; text-decoration-color: #00af00\">32</span>, <span style=\"color: #00af00; text-decoration-color: #00af00\">32</span>, <span style=\"color: #00af00; text-decoration-color: #00af00\">32</span>)     │           <span style=\"color: #00af00; text-decoration-color: #00af00\">896</span> │\n",
              "├─────────────────────────────────┼────────────────────────┼───────────────┤\n",
              "│ conv2d_1 (<span style=\"color: #0087ff; text-decoration-color: #0087ff\">Conv2D</span>)               │ (<span style=\"color: #00d7ff; text-decoration-color: #00d7ff\">None</span>, <span style=\"color: #00af00; text-decoration-color: #00af00\">32</span>, <span style=\"color: #00af00; text-decoration-color: #00af00\">32</span>, <span style=\"color: #00af00; text-decoration-color: #00af00\">32</span>)     │         <span style=\"color: #00af00; text-decoration-color: #00af00\">9,248</span> │\n",
              "├─────────────────────────────────┼────────────────────────┼───────────────┤\n",
              "│ max_pooling2d (<span style=\"color: #0087ff; text-decoration-color: #0087ff\">MaxPooling2D</span>)    │ (<span style=\"color: #00d7ff; text-decoration-color: #00d7ff\">None</span>, <span style=\"color: #00af00; text-decoration-color: #00af00\">16</span>, <span style=\"color: #00af00; text-decoration-color: #00af00\">16</span>, <span style=\"color: #00af00; text-decoration-color: #00af00\">32</span>)     │             <span style=\"color: #00af00; text-decoration-color: #00af00\">0</span> │\n",
              "├─────────────────────────────────┼────────────────────────┼───────────────┤\n",
              "│ dropout (<span style=\"color: #0087ff; text-decoration-color: #0087ff\">Dropout</span>)               │ (<span style=\"color: #00d7ff; text-decoration-color: #00d7ff\">None</span>, <span style=\"color: #00af00; text-decoration-color: #00af00\">16</span>, <span style=\"color: #00af00; text-decoration-color: #00af00\">16</span>, <span style=\"color: #00af00; text-decoration-color: #00af00\">32</span>)     │             <span style=\"color: #00af00; text-decoration-color: #00af00\">0</span> │\n",
              "├─────────────────────────────────┼────────────────────────┼───────────────┤\n",
              "│ conv2d_2 (<span style=\"color: #0087ff; text-decoration-color: #0087ff\">Conv2D</span>)               │ (<span style=\"color: #00d7ff; text-decoration-color: #00d7ff\">None</span>, <span style=\"color: #00af00; text-decoration-color: #00af00\">16</span>, <span style=\"color: #00af00; text-decoration-color: #00af00\">16</span>, <span style=\"color: #00af00; text-decoration-color: #00af00\">64</span>)     │        <span style=\"color: #00af00; text-decoration-color: #00af00\">18,496</span> │\n",
              "├─────────────────────────────────┼────────────────────────┼───────────────┤\n",
              "│ conv2d_3 (<span style=\"color: #0087ff; text-decoration-color: #0087ff\">Conv2D</span>)               │ (<span style=\"color: #00d7ff; text-decoration-color: #00d7ff\">None</span>, <span style=\"color: #00af00; text-decoration-color: #00af00\">16</span>, <span style=\"color: #00af00; text-decoration-color: #00af00\">16</span>, <span style=\"color: #00af00; text-decoration-color: #00af00\">64</span>)     │        <span style=\"color: #00af00; text-decoration-color: #00af00\">36,928</span> │\n",
              "├─────────────────────────────────┼────────────────────────┼───────────────┤\n",
              "│ max_pooling2d_1 (<span style=\"color: #0087ff; text-decoration-color: #0087ff\">MaxPooling2D</span>)  │ (<span style=\"color: #00d7ff; text-decoration-color: #00d7ff\">None</span>, <span style=\"color: #00af00; text-decoration-color: #00af00\">8</span>, <span style=\"color: #00af00; text-decoration-color: #00af00\">8</span>, <span style=\"color: #00af00; text-decoration-color: #00af00\">64</span>)       │             <span style=\"color: #00af00; text-decoration-color: #00af00\">0</span> │\n",
              "├─────────────────────────────────┼────────────────────────┼───────────────┤\n",
              "│ dropout_1 (<span style=\"color: #0087ff; text-decoration-color: #0087ff\">Dropout</span>)             │ (<span style=\"color: #00d7ff; text-decoration-color: #00d7ff\">None</span>, <span style=\"color: #00af00; text-decoration-color: #00af00\">8</span>, <span style=\"color: #00af00; text-decoration-color: #00af00\">8</span>, <span style=\"color: #00af00; text-decoration-color: #00af00\">64</span>)       │             <span style=\"color: #00af00; text-decoration-color: #00af00\">0</span> │\n",
              "├─────────────────────────────────┼────────────────────────┼───────────────┤\n",
              "│ conv2d_4 (<span style=\"color: #0087ff; text-decoration-color: #0087ff\">Conv2D</span>)               │ (<span style=\"color: #00d7ff; text-decoration-color: #00d7ff\">None</span>, <span style=\"color: #00af00; text-decoration-color: #00af00\">8</span>, <span style=\"color: #00af00; text-decoration-color: #00af00\">8</span>, <span style=\"color: #00af00; text-decoration-color: #00af00\">128</span>)      │        <span style=\"color: #00af00; text-decoration-color: #00af00\">73,856</span> │\n",
              "├─────────────────────────────────┼────────────────────────┼───────────────┤\n",
              "│ conv2d_5 (<span style=\"color: #0087ff; text-decoration-color: #0087ff\">Conv2D</span>)               │ (<span style=\"color: #00d7ff; text-decoration-color: #00d7ff\">None</span>, <span style=\"color: #00af00; text-decoration-color: #00af00\">8</span>, <span style=\"color: #00af00; text-decoration-color: #00af00\">8</span>, <span style=\"color: #00af00; text-decoration-color: #00af00\">128</span>)      │       <span style=\"color: #00af00; text-decoration-color: #00af00\">147,584</span> │\n",
              "├─────────────────────────────────┼────────────────────────┼───────────────┤\n",
              "│ max_pooling2d_2 (<span style=\"color: #0087ff; text-decoration-color: #0087ff\">MaxPooling2D</span>)  │ (<span style=\"color: #00d7ff; text-decoration-color: #00d7ff\">None</span>, <span style=\"color: #00af00; text-decoration-color: #00af00\">4</span>, <span style=\"color: #00af00; text-decoration-color: #00af00\">4</span>, <span style=\"color: #00af00; text-decoration-color: #00af00\">128</span>)      │             <span style=\"color: #00af00; text-decoration-color: #00af00\">0</span> │\n",
              "├─────────────────────────────────┼────────────────────────┼───────────────┤\n",
              "│ dropout_2 (<span style=\"color: #0087ff; text-decoration-color: #0087ff\">Dropout</span>)             │ (<span style=\"color: #00d7ff; text-decoration-color: #00d7ff\">None</span>, <span style=\"color: #00af00; text-decoration-color: #00af00\">4</span>, <span style=\"color: #00af00; text-decoration-color: #00af00\">4</span>, <span style=\"color: #00af00; text-decoration-color: #00af00\">128</span>)      │             <span style=\"color: #00af00; text-decoration-color: #00af00\">0</span> │\n",
              "├─────────────────────────────────┼────────────────────────┼───────────────┤\n",
              "│ flatten (<span style=\"color: #0087ff; text-decoration-color: #0087ff\">Flatten</span>)               │ (<span style=\"color: #00d7ff; text-decoration-color: #00d7ff\">None</span>, <span style=\"color: #00af00; text-decoration-color: #00af00\">2048</span>)           │             <span style=\"color: #00af00; text-decoration-color: #00af00\">0</span> │\n",
              "├─────────────────────────────────┼────────────────────────┼───────────────┤\n",
              "│ dense (<span style=\"color: #0087ff; text-decoration-color: #0087ff\">Dense</span>)                   │ (<span style=\"color: #00d7ff; text-decoration-color: #00d7ff\">None</span>, <span style=\"color: #00af00; text-decoration-color: #00af00\">512</span>)            │     <span style=\"color: #00af00; text-decoration-color: #00af00\">1,049,088</span> │\n",
              "├─────────────────────────────────┼────────────────────────┼───────────────┤\n",
              "│ dropout_3 (<span style=\"color: #0087ff; text-decoration-color: #0087ff\">Dropout</span>)             │ (<span style=\"color: #00d7ff; text-decoration-color: #00d7ff\">None</span>, <span style=\"color: #00af00; text-decoration-color: #00af00\">512</span>)            │             <span style=\"color: #00af00; text-decoration-color: #00af00\">0</span> │\n",
              "├─────────────────────────────────┼────────────────────────┼───────────────┤\n",
              "│ dense_1 (<span style=\"color: #0087ff; text-decoration-color: #0087ff\">Dense</span>)                 │ (<span style=\"color: #00d7ff; text-decoration-color: #00d7ff\">None</span>, <span style=\"color: #00af00; text-decoration-color: #00af00\">256</span>)            │       <span style=\"color: #00af00; text-decoration-color: #00af00\">131,328</span> │\n",
              "├─────────────────────────────────┼────────────────────────┼───────────────┤\n",
              "│ dropout_4 (<span style=\"color: #0087ff; text-decoration-color: #0087ff\">Dropout</span>)             │ (<span style=\"color: #00d7ff; text-decoration-color: #00d7ff\">None</span>, <span style=\"color: #00af00; text-decoration-color: #00af00\">256</span>)            │             <span style=\"color: #00af00; text-decoration-color: #00af00\">0</span> │\n",
              "├─────────────────────────────────┼────────────────────────┼───────────────┤\n",
              "│ dense_2 (<span style=\"color: #0087ff; text-decoration-color: #0087ff\">Dense</span>)                 │ (<span style=\"color: #00d7ff; text-decoration-color: #00d7ff\">None</span>, <span style=\"color: #00af00; text-decoration-color: #00af00\">10</span>)             │         <span style=\"color: #00af00; text-decoration-color: #00af00\">2,570</span> │\n",
              "└─────────────────────────────────┴────────────────────────┴───────────────┘\n",
              "</pre>\n"
            ]
          },
          "metadata": {}
        },
        {
          "output_type": "display_data",
          "data": {
            "text/plain": [
              "\u001b[1m Total params: \u001b[0m\u001b[38;5;34m1,469,994\u001b[0m (5.61 MB)\n"
            ],
            "text/html": [
              "<pre style=\"white-space:pre;overflow-x:auto;line-height:normal;font-family:Menlo,'DejaVu Sans Mono',consolas,'Courier New',monospace\"><span style=\"font-weight: bold\"> Total params: </span><span style=\"color: #00af00; text-decoration-color: #00af00\">1,469,994</span> (5.61 MB)\n",
              "</pre>\n"
            ]
          },
          "metadata": {}
        },
        {
          "output_type": "display_data",
          "data": {
            "text/plain": [
              "\u001b[1m Trainable params: \u001b[0m\u001b[38;5;34m1,469,994\u001b[0m (5.61 MB)\n"
            ],
            "text/html": [
              "<pre style=\"white-space:pre;overflow-x:auto;line-height:normal;font-family:Menlo,'DejaVu Sans Mono',consolas,'Courier New',monospace\"><span style=\"font-weight: bold\"> Trainable params: </span><span style=\"color: #00af00; text-decoration-color: #00af00\">1,469,994</span> (5.61 MB)\n",
              "</pre>\n"
            ]
          },
          "metadata": {}
        },
        {
          "output_type": "display_data",
          "data": {
            "text/plain": [
              "\u001b[1m Non-trainable params: \u001b[0m\u001b[38;5;34m0\u001b[0m (0.00 B)\n"
            ],
            "text/html": [
              "<pre style=\"white-space:pre;overflow-x:auto;line-height:normal;font-family:Menlo,'DejaVu Sans Mono',consolas,'Courier New',monospace\"><span style=\"font-weight: bold\"> Non-trainable params: </span><span style=\"color: #00af00; text-decoration-color: #00af00\">0</span> (0.00 B)\n",
              "</pre>\n"
            ]
          },
          "metadata": {}
        }
      ]
    },
    {
      "cell_type": "markdown",
      "source": [
        "STEP 2: Compiled the Model"
      ],
      "metadata": {
        "id": "vgDvlXV1NCmo"
      }
    },
    {
      "cell_type": "code",
      "source": [
        "\"\"\"\n",
        "EXPLANATION OF COMPILATION CHOICES:\n",
        "\n",
        "OPTIMIZER - Adam:\n",
        "- Adaptive learning rate\n",
        "- Works well for most problems\n",
        "- Good default choice\n",
        "\n",
        "LOSS FUNCTION - Categorical Crossentropy:\n",
        "- Standard for multi-class classification\n",
        "- Works with one-hot encoded labels\n",
        "\n",
        "METRICS - Accuracy:\n",
        "- Easy to understand percentage of correct predictions\n",
        "- Good for balanced datasets\n",
        "\"\"\"\n",
        "\n",
        "custom_cnn.compile(optimizer='adam',\n",
        "              loss='categorical_crossentropy',\n",
        "              metrics=['accuracy'])\n"
      ],
      "metadata": {
        "id": "6zXDarKXNB4m"
      },
      "execution_count": null,
      "outputs": []
    },
    {
      "cell_type": "markdown",
      "source": [
        "STEP 3: Setup Training Callbacks"
      ],
      "metadata": {
        "id": "UWY-wdWQWDwr"
      }
    },
    {
      "cell_type": "code",
      "source": [
        "\"\"\"\n",
        "CALLBACKS FOR BETTER TRAINING:\n",
        "\n",
        "1. EarlyStopping: Stops training if validation accuracy stops improving\n",
        "2. ReduceLROnPlateau: Reduces learning rate when training plateaus\n",
        "3. ModelCheckpoint: Saves the best model during training\n",
        "\"\"\"\n",
        "\n",
        "# Create callbacks\n",
        "early_stopping = callbacks.EarlyStopping(\n",
        "    monitor='val_accuracy',\n",
        "    patience=5,\n",
        "    restore_best_weights=True,\n",
        "    verbose=1\n",
        ")\n",
        "\n",
        "reduce_lr = callbacks.ReduceLROnPlateau(\n",
        "    monitor='val_loss',\n",
        "    factor=0.2,\n",
        "    patience=3,\n",
        "    min_lr=1e-7,\n",
        "    verbose=1\n",
        ")\n",
        "\n",
        "model_checkpoint = callbacks.ModelCheckpoint(\n",
        "    'best_custom_cnn.h5',\n",
        "    monitor='val_accuracy',\n",
        "    save_best_only=True,\n",
        "    verbose=1\n",
        ")\n",
        "\n",
        "callback_list = [early_stopping, reduce_lr, model_checkpoint]"
      ],
      "metadata": {
        "id": "MtHmEqG3WKYK"
      },
      "execution_count": null,
      "outputs": []
    },
    {
      "cell_type": "markdown",
      "source": [
        "STEP 4: Train Custom CNN"
      ],
      "metadata": {
        "id": "Mfr4pl_UXQN0"
      }
    },
    {
      "cell_type": "code",
      "source": [
        "# Training Parameters\n",
        "BATCH_SIZE = 32\n",
        "EPOCHS = 15\n",
        "\n",
        "x_train_final.shape[0]\n",
        "x_val.shape[0]\n",
        "\n",
        "print(f\"Training parameters:\")\n",
        "print(f\"- Batch size: {BATCH_SIZE}\")\n",
        "print(f\"- Max epochs: {EPOCHS}\")\n",
        "print(f\"- Training samples: {x_train_final.shape[0]}\")\n",
        "print(f\"- Validation samples: {x_val.shape[0]}\")\n",
        "\n",
        "# Add data augmenting to training\n",
        "def create_augmented_dataset(x_train, y_train, batch_size):\n",
        "    \"\"\"Create augmented training dataset\"\"\"\n",
        "    dataset = tf.data.Dataset.from_tensor_slices((x_train, y_train))\n",
        "    dataset = dataset.batch(batch_size)\n",
        "    dataset = dataset.map(\n",
        "        lambda x, y: (data_augmentation(x, training=True), y),\n",
        "        num_parallel_calls=tf.data.AUTOTUNE\n",
        "    )\n",
        "    dataset = dataset.prefetch(tf.data.AUTOTUNE)\n",
        "    return dataset\n",
        "\n",
        "# Create training dataset with augmentation\n",
        "train_dataset = create_augmented_dataset(x_train_final, y_train_final, BATCH_SIZE)\n",
        "\n",
        "# Create validation dataset (no augmentation)\n",
        "val_dataset = tf.data.Dataset.from_tensor_slices((x_val, y_val))\n",
        "val_dataset = val_dataset.batch(BATCH_SIZE)\n",
        "val_dataset = val_dataset.prefetch(tf.data.AUTOTUNE)\n",
        "\n",
        "# Train the model\n",
        "history = custom_cnn.fit(train_dataset, epochs=EPOCHS, validation_data=val_dataset, callbacks=callback_list, verbose=1)"
      ],
      "metadata": {
        "colab": {
          "base_uri": "https://localhost:8080/"
        },
        "id": "deEYSASyXWAO",
        "outputId": "9190aa79-4988-48e0-a577-2e1cbf398c62"
      },
      "execution_count": null,
      "outputs": [
        {
          "output_type": "stream",
          "name": "stdout",
          "text": [
            "Training parameters:\n",
            "- Batch size: 32\n",
            "- Max epochs: 15\n",
            "- Training samples: 40000\n",
            "- Validation samples: 10000\n",
            "Epoch 1/15\n",
            "\u001b[1m1244/1250\u001b[0m \u001b[32m━━━━━━━━━━━━━━━━━━━\u001b[0m\u001b[37m━\u001b[0m \u001b[1m0s\u001b[0m 4ms/step - accuracy: 0.0972 - loss: 2.3026\n",
            "Epoch 1: val_accuracy did not improve from 0.10250\n",
            "\u001b[1m1250/1250\u001b[0m \u001b[32m━━━━━━━━━━━━━━━━━━━━\u001b[0m\u001b[37m\u001b[0m \u001b[1m6s\u001b[0m 4ms/step - accuracy: 0.0972 - loss: 2.3026 - val_accuracy: 0.1025 - val_loss: 2.3026 - learning_rate: 4.0000e-05\n",
            "Epoch 2/15\n",
            "\u001b[1m1247/1250\u001b[0m \u001b[32m━━━━━━━━━━━━━━━━━━━\u001b[0m\u001b[37m━\u001b[0m \u001b[1m0s\u001b[0m 4ms/step - accuracy: 0.0957 - loss: 2.3026\n",
            "Epoch 2: val_accuracy did not improve from 0.10250\n",
            "\u001b[1m1250/1250\u001b[0m \u001b[32m━━━━━━━━━━━━━━━━━━━━\u001b[0m\u001b[37m\u001b[0m \u001b[1m6s\u001b[0m 4ms/step - accuracy: 0.0957 - loss: 2.3026 - val_accuracy: 0.1025 - val_loss: 2.3027 - learning_rate: 4.0000e-05\n",
            "Epoch 3/15\n",
            "\u001b[1m1237/1250\u001b[0m \u001b[32m━━━━━━━━━━━━━━━━━━━\u001b[0m\u001b[37m━\u001b[0m \u001b[1m0s\u001b[0m 4ms/step - accuracy: 0.0975 - loss: 2.3027\n",
            "Epoch 3: val_accuracy did not improve from 0.10250\n",
            "\u001b[1m1250/1250\u001b[0m \u001b[32m━━━━━━━━━━━━━━━━━━━━\u001b[0m\u001b[37m\u001b[0m \u001b[1m6s\u001b[0m 4ms/step - accuracy: 0.0975 - loss: 2.3027 - val_accuracy: 0.1025 - val_loss: 2.3027 - learning_rate: 4.0000e-05\n",
            "Epoch 4/15\n",
            "\u001b[1m1238/1250\u001b[0m \u001b[32m━━━━━━━━━━━━━━━━━━━\u001b[0m\u001b[37m━\u001b[0m \u001b[1m0s\u001b[0m 4ms/step - accuracy: 0.0949 - loss: 2.3027\n",
            "Epoch 4: ReduceLROnPlateau reducing learning rate to 8.000000525498762e-06.\n",
            "\n",
            "Epoch 4: val_accuracy did not improve from 0.10250\n",
            "\u001b[1m1250/1250\u001b[0m \u001b[32m━━━━━━━━━━━━━━━━━━━━\u001b[0m\u001b[37m\u001b[0m \u001b[1m6s\u001b[0m 4ms/step - accuracy: 0.0949 - loss: 2.3027 - val_accuracy: 0.1025 - val_loss: 2.3027 - learning_rate: 4.0000e-05\n",
            "Epoch 5/15\n",
            "\u001b[1m1238/1250\u001b[0m \u001b[32m━━━━━━━━━━━━━━━━━━━\u001b[0m\u001b[37m━\u001b[0m \u001b[1m0s\u001b[0m 4ms/step - accuracy: 0.1036 - loss: 2.3026\n",
            "Epoch 5: val_accuracy did not improve from 0.10250\n",
            "\u001b[1m1250/1250\u001b[0m \u001b[32m━━━━━━━━━━━━━━━━━━━━\u001b[0m\u001b[37m\u001b[0m \u001b[1m6s\u001b[0m 4ms/step - accuracy: 0.1036 - loss: 2.3026 - val_accuracy: 0.1025 - val_loss: 2.3027 - learning_rate: 8.0000e-06\n",
            "Epoch 6/15\n",
            "\u001b[1m1236/1250\u001b[0m \u001b[32m━━━━━━━━━━━━━━━━━━━\u001b[0m\u001b[37m━\u001b[0m \u001b[1m0s\u001b[0m 4ms/step - accuracy: 0.0984 - loss: 2.3027\n",
            "Epoch 6: val_accuracy did not improve from 0.10250\n",
            "\u001b[1m1250/1250\u001b[0m \u001b[32m━━━━━━━━━━━━━━━━━━━━\u001b[0m\u001b[37m\u001b[0m \u001b[1m6s\u001b[0m 4ms/step - accuracy: 0.0984 - loss: 2.3027 - val_accuracy: 0.1025 - val_loss: 2.3027 - learning_rate: 8.0000e-06\n",
            "Epoch 6: early stopping\n",
            "Restoring model weights from the end of the best epoch: 1.\n"
          ]
        }
      ]
    },
    {
      "cell_type": "markdown",
      "source": [
        "STEP 5: Evaluation"
      ],
      "metadata": {
        "id": "ryX-Jfse50T4"
      }
    },
    {
      "cell_type": "code",
      "source": [
        "from sklearn.metrics import classification_report, confusion_matrix\n",
        "from sklearn.metrics import precision_recall_fscore_support\n",
        "from sklearn.metrics import accuracy_score\n",
        "\n",
        "# Predictions\n",
        "val_predictions = custom_cnn.predict(val_dataset, verbose=0)\n",
        "\n",
        "# Convert predictions and true labels from one-hot to class indices\n",
        "val_pred_classes = np.argmax(val_predictions, axis=1)\n",
        "val_true_classes = np.argmax(y_val, axis=1)\n",
        "\n",
        "print(f\"Predictions shape: {val_predictions.shape}\")\n",
        "print(f\"Number of validation samples: {len(val_true_classes)}\")\n",
        "\n",
        "# Calculate per-class metrics\n",
        "precision, recall, f1, support = precision_recall_fscore_support(val_true_classes, val_pred_classes, average=None)\n",
        "\n",
        "# Calculate per-class accuracy\n",
        "from sklearn.metrics import accuracy_score\n",
        "cm = confusion_matrix(val_true_classes, val_pred_classes)\n",
        "per_class_accuracy = np.diag(cm) / np.sum(cm, axis=1)\n",
        "\n",
        "# Overall accuracy\n",
        "overall_accuracy = accuracy_score(val_true_classes, val_pred_classes)\n",
        "\n",
        "# Calculate overall metrics\n",
        "precision_macro = precision_recall_fscore_support(val_true_classes, val_pred_classes, average='macro')[0]\n",
        "recall_macro = precision_recall_fscore_support(val_true_classes, val_pred_classes, average='macro')[1]\n",
        "f1_macro = precision_recall_fscore_support(val_true_classes, val_pred_classes, average='macro')[2]\n",
        "\n",
        "precision_weighted = precision_recall_fscore_support(val_true_classes, val_pred_classes, average='weighted')[0]\n",
        "recall_weighted = precision_recall_fscore_support(val_true_classes, val_pred_classes, average='weighted')[1]\n",
        "f1_weighted = precision_recall_fscore_support(val_true_classes, val_pred_classes, average='weighted')[2]\n",
        "\n",
        "print(\"\\n=== OVERALL PERFORMANCE METRICS ===\")\n",
        "print(f\"Overall Accuracy: {overall_accuracy:.4f} ({overall_accuracy*100:.2f}%)\")\n",
        "print(f\"Average Per-Class Accuracy: {np.mean(per_class_accuracy):.4f} ({np.mean(per_class_accuracy)*100:.2f}%)\")\n",
        "print(f\"\\nMacro Average (treats all classes equally):\")\n",
        "print(f\"  Precision: {precision_macro:.4f} ({precision_macro*100:.2f}%)\")\n",
        "print(f\"  Recall:    {recall_macro:.4f} ({recall_macro*100:.2f}%)\")\n",
        "print(f\"  F1 Score:  {f1_macro:.4f} ({f1_macro*100:.2f}%)\")\n",
        "print(f\"\\nWeighted Average (accounts for class frequency):\")\n",
        "print(f\"  Precision: {precision_weighted:.4f} ({precision_weighted*100:.2f}%)\")\n",
        "print(f\"  Recall:    {recall_weighted:.4f} ({recall_weighted*100:.2f}%)\")\n",
        "print(f\"  F1 Score:  {f1_weighted:.4f} ({f1_weighted*100:.2f}%)\")\n"
      ],
      "metadata": {
        "colab": {
          "base_uri": "https://localhost:8080/"
        },
        "id": "TiYh4rSufoAp",
        "outputId": "2c0988ce-5eb5-45fe-e0d7-d9844a051aca"
      },
      "execution_count": null,
      "outputs": [
        {
          "output_type": "stream",
          "name": "stdout",
          "text": [
            "Predictions shape: (10000, 10)\n",
            "Number of validation samples: 10000\n",
            "\n",
            "=== OVERALL PERFORMANCE METRICS ===\n",
            "Overall Accuracy: 0.1025 (10.25%)\n",
            "Average Per-Class Accuracy: 0.1000 (10.00%)\n",
            "\n",
            "Macro Average (treats all classes equally):\n",
            "  Precision: 0.0102 (1.02%)\n",
            "  Recall:    0.1000 (10.00%)\n",
            "  F1 Score:  0.0186 (1.86%)\n",
            "\n",
            "Weighted Average (accounts for class frequency):\n",
            "  Precision: 0.0105 (1.05%)\n",
            "  Recall:    0.1025 (10.25%)\n",
            "  F1 Score:  0.0191 (1.91%)\n"
          ]
        }
      ]
    },
    {
      "cell_type": "markdown",
      "source": [
        "STEP 6: Confusion Matrix Analysis"
      ],
      "metadata": {
        "id": "6ZryxUTGI0a2"
      }
    },
    {
      "cell_type": "code",
      "source": [
        "# Confusion Matrix\n",
        "\n",
        "def plot_confusion_matrix(y_true, y_pred, class_names):\n",
        "    \"\"\"Plot confusion matrix with class names\"\"\"\n",
        "    cm = confusion_matrix(y_true, y_pred)\n",
        "\n",
        "    plt.figure(figsize=(12, 10))\n",
        "    sns.heatmap(cm, annot=True, fmt='d', cmap='Blues',\n",
        "                xticklabels=class_names, yticklabels=class_names)\n",
        "    plt.title('Confusion Matrix', fontsize=16)\n",
        "    plt.xlabel('Predicted Label', fontsize=12)\n",
        "    plt.ylabel('True Label', fontsize=12)\n",
        "    plt.xticks(rotation=45)\n",
        "    plt.yticks(rotation=0)\n",
        "    plt.tight_layout()\n",
        "    plt.show()\n",
        "\n",
        "    return cm\n",
        "\n",
        "print(\"\\n=== CONFUSION MATRIX ANALYSIS ===\")\n",
        "cm = plot_confusion_matrix(val_true_classes, val_pred_classes, class_names)\n",
        "\n",
        "# Detailed Classification Report\n",
        "print(\"\\n=== DETAILED CLASSIFICATION REPORT ===\")\n",
        "report = classification_report(val_true_classes, val_pred_classes, target_names=class_names, digits=4)\n",
        "print(report)\n"
      ],
      "metadata": {
        "id": "WtdGQG6GIM1F"
      },
      "execution_count": null,
      "outputs": []
    },
    {
      "cell_type": "markdown",
      "source": [
        "**PART 4: TRANSFER LEARNING**"
      ],
      "metadata": {
        "id": "BVrMowPERxP3"
      }
    },
    {
      "cell_type": "code",
      "source": [
        "from tensorflow.keras.applications import VGG16, ResNet50, MobileNetV2\n"
      ],
      "metadata": {
        "id": "PvoCWcPfR3Ab"
      },
      "execution_count": null,
      "outputs": []
    },
    {
      "cell_type": "markdown",
      "source": [
        "STEP 1: Understanding Transfer Learning"
      ],
      "metadata": {
        "id": "IBdGvwDnTJ85"
      }
    },
    {
      "cell_type": "code",
      "source": [
        "\"\"\"\n",
        "TRANSFER LEARNING EXPLAINED:\n",
        "\n",
        "1. PRE-TRAINED MODEL:\n",
        "   - Model trained on large dataset (ImageNet - 1.4M images, 1000 classes)\n",
        "   - Learned general features like edges, shapes, textures\n",
        "   - Lower layers: basic features (edges, colors)\n",
        "   - Higher layers: complex patterns (objects, scenes)\n",
        "\n",
        "2. TRANSFER STRATEGIES:\n",
        "   - Feature Extraction: Freeze pre-trained layers, train only new classifier\n",
        "   - Fine-tuning: Unfreeze some layers and train with very low learning rate\n",
        "   - Full Fine-tuning: Train entire model with low learning rate\n",
        "\n",
        "3. WHY IT WORKS:\n",
        "   - Pre-trained features are general and transferable\n",
        "   - Much faster than training from scratch\n",
        "   - Better performance with limited data\n",
        "   - Reduces overfitting\n",
        "\"\"\""
      ],
      "metadata": {
        "id": "92QpOsIPTQQ0"
      },
      "execution_count": null,
      "outputs": []
    },
    {
      "cell_type": "markdown",
      "source": [
        "STEP 2: Prepare Data for Transfer Learning"
      ],
      "metadata": {
        "id": "ZX7Jg6UITrun"
      }
    },
    {
      "cell_type": "code",
      "source": [
        "\"\"\"\n",
        "Pre-trained models expect different input sizes\n",
        "- CIFAR-10: 32x32 images\n",
        "- ImageNet models: usually 224x224 images\n",
        "- Solution: Resize images or use models that accept smaller inputs\n",
        "\"\"\"\n",
        "def resize_and_normalize(images, target_size=(96, 96)):\n",
        "    resized_images = [tf.image.resize(image, target_size).numpy() / 255.0 for image in images]\n",
        "    return np.array(resized_images)\n",
        "\n",
        "x_train_resized = resize_and_normalize(x_train_final)\n",
        "x_val_resized = resize_and_normalize(x_val)\n",
        "x_test_resized = resize_and_normalize(x_test_final)"
      ],
      "metadata": {
        "id": "MxBicV4STzF1"
      },
      "execution_count": null,
      "outputs": []
    },
    {
      "cell_type": "code",
      "source": [
        "from tensorflow.keras.applications.mobilenet_v2 import MobileNetV2, preprocess_input\n",
        "x_train_rgb = preprocess_input(x_train_resized)\n",
        "x_test_rgb = preprocess_input(x_test_resized)"
      ],
      "metadata": {
        "id": "-qcJVsRuWEXN"
      },
      "execution_count": null,
      "outputs": []
    },
    {
      "cell_type": "code",
      "source": [
        "from tensorflow.keras.datasets import cifar10\n",
        "(x_train, y_train), (x_test, y_test) = cifar10.load_data()"
      ],
      "metadata": {
        "id": "P4UTibclaIvt"
      },
      "execution_count": null,
      "outputs": []
    },
    {
      "cell_type": "code",
      "source": [
        "import tensorflow as tf\n",
        "\n",
        "def resize_images(images, size=(96,96)):\n",
        "    return tf.image.resize(images, size)\n",
        "\n",
        "x_train_resized = resize_images(x_train, (96, 96))\n",
        "x_test_resized = resize_images(x_test, (96, 96))"
      ],
      "metadata": {
        "id": "-MawDTzrcnv9"
      },
      "execution_count": null,
      "outputs": []
    },
    {
      "cell_type": "code",
      "source": [
        "x_train = preprocess_input(x_train_resized)\n",
        "x_test = preprocess_input(x_test_resized)"
      ],
      "metadata": {
        "id": "LcoI9EjabXDv"
      },
      "execution_count": null,
      "outputs": []
    },
    {
      "cell_type": "code",
      "source": [
        "base_model = tf.keras.applications.MobileNetV2(\n",
        "    input_shape=(96, 96, 3),\n",
        "    include_top=False,\n",
        "    weights='imagenet',\n",
        "    pooling='avg'  # Global average pooling at the end of base\n",
        ")"
      ],
      "metadata": {
        "id": "_8Rk5Q4faY6O"
      },
      "execution_count": null,
      "outputs": []
    },
    {
      "cell_type": "code",
      "source": [
        "from tensorflow.keras import layers, models\n",
        "from tensorflow.keras.utils import to_categorical\n",
        "y_test_cat = to_categorical(y_test, 10)\n",
        "y_train_cat = to_categorical(y_train, 10)\n",
        "# Freeze the base_model layers to start (optional)\n",
        "base_model.trainable = False\n",
        "\n",
        "# Build the classification head\n",
        "model = models.Sequential([\n",
        "    base_model,\n",
        "    layers.Dense(128, activation='relu'),\n",
        "    layers.Dropout(0.3),\n",
        "    layers.Dense(10, activation='softmax')\n",
        "])\n",
        "\n",
        "# Compile the model\n",
        "model.compile(\n",
        "    optimizer=tf.keras.optimizers.Adam(learning_rate=0.001),\n",
        "    loss='categorical_crossentropy',\n",
        "    metrics=['accuracy']\n",
        ")\n",
        "\n",
        "# Train the model\n",
        "history = model.fit(\n",
        "    x_train, y_train_cat,\n",
        "    epochs=15,\n",
        "    batch_size=64,\n",
        "    validation_split=0.2\n",
        ")"
      ],
      "metadata": {
        "colab": {
          "base_uri": "https://localhost:8080/"
        },
        "id": "euI8StZsanq8",
        "outputId": "ebb37ec8-614d-445d-af54-26b32ead05cf"
      },
      "execution_count": null,
      "outputs": [
        {
          "output_type": "stream",
          "name": "stdout",
          "text": [
            "Epoch 1/15\n",
            "\u001b[1m625/625\u001b[0m \u001b[32m━━━━━━━━━━━━━━━━━━━━\u001b[0m\u001b[37m\u001b[0m \u001b[1m18s\u001b[0m 18ms/step - accuracy: 0.7262 - loss: 0.8273 - val_accuracy: 0.8486 - val_loss: 0.4323\n",
            "Epoch 2/15\n",
            "\u001b[1m625/625\u001b[0m \u001b[32m━━━━━━━━━━━━━━━━━━━━\u001b[0m\u001b[37m\u001b[0m \u001b[1m6s\u001b[0m 9ms/step - accuracy: 0.8507 - loss: 0.4404 - val_accuracy: 0.8598 - val_loss: 0.4045\n",
            "Epoch 3/15\n",
            "\u001b[1m625/625\u001b[0m \u001b[32m━━━━━━━━━━━━━━━━━━━━\u001b[0m\u001b[37m\u001b[0m \u001b[1m6s\u001b[0m 9ms/step - accuracy: 0.8707 - loss: 0.3821 - val_accuracy: 0.8580 - val_loss: 0.4069\n",
            "Epoch 4/15\n",
            "\u001b[1m625/625\u001b[0m \u001b[32m━━━━━━━━━━━━━━━━━━━━\u001b[0m\u001b[37m\u001b[0m \u001b[1m6s\u001b[0m 10ms/step - accuracy: 0.8812 - loss: 0.3493 - val_accuracy: 0.8636 - val_loss: 0.3985\n",
            "Epoch 5/15\n",
            "\u001b[1m625/625\u001b[0m \u001b[32m━━━━━━━━━━━━━━━━━━━━\u001b[0m\u001b[37m\u001b[0m \u001b[1m6s\u001b[0m 10ms/step - accuracy: 0.8911 - loss: 0.3124 - val_accuracy: 0.8625 - val_loss: 0.4002\n",
            "Epoch 6/15\n",
            "\u001b[1m625/625\u001b[0m \u001b[32m━━━━━━━━━━━━━━━━━━━━\u001b[0m\u001b[37m\u001b[0m \u001b[1m6s\u001b[0m 10ms/step - accuracy: 0.8982 - loss: 0.2916 - val_accuracy: 0.8652 - val_loss: 0.4029\n",
            "Epoch 7/15\n",
            "\u001b[1m625/625\u001b[0m \u001b[32m━━━━━━━━━━━━━━━━━━━━\u001b[0m\u001b[37m\u001b[0m \u001b[1m6s\u001b[0m 10ms/step - accuracy: 0.9088 - loss: 0.2630 - val_accuracy: 0.8666 - val_loss: 0.4214\n",
            "Epoch 8/15\n",
            "\u001b[1m625/625\u001b[0m \u001b[32m━━━━━━━━━━━━━━━━━━━━\u001b[0m\u001b[37m\u001b[0m \u001b[1m6s\u001b[0m 9ms/step - accuracy: 0.9130 - loss: 0.2487 - val_accuracy: 0.8671 - val_loss: 0.4151\n",
            "Epoch 9/15\n",
            "\u001b[1m625/625\u001b[0m \u001b[32m━━━━━━━━━━━━━━━━━━━━\u001b[0m\u001b[37m\u001b[0m \u001b[1m6s\u001b[0m 10ms/step - accuracy: 0.9201 - loss: 0.2266 - val_accuracy: 0.8670 - val_loss: 0.4244\n",
            "Epoch 10/15\n",
            "\u001b[1m625/625\u001b[0m \u001b[32m━━━━━━━━━━━━━━━━━━━━\u001b[0m\u001b[37m\u001b[0m \u001b[1m6s\u001b[0m 9ms/step - accuracy: 0.9234 - loss: 0.2169 - val_accuracy: 0.8682 - val_loss: 0.4317\n",
            "Epoch 11/15\n",
            "\u001b[1m625/625\u001b[0m \u001b[32m━━━━━━━━━━━━━━━━━━━━\u001b[0m\u001b[37m\u001b[0m \u001b[1m6s\u001b[0m 10ms/step - accuracy: 0.9283 - loss: 0.1954 - val_accuracy: 0.8684 - val_loss: 0.4394\n",
            "Epoch 12/15\n",
            "\u001b[1m625/625\u001b[0m \u001b[32m━━━━━━━━━━━━━━━━━━━━\u001b[0m\u001b[37m\u001b[0m \u001b[1m6s\u001b[0m 9ms/step - accuracy: 0.9352 - loss: 0.1816 - val_accuracy: 0.8681 - val_loss: 0.4686\n",
            "Epoch 13/15\n",
            "\u001b[1m625/625\u001b[0m \u001b[32m━━━━━━━━━━━━━━━━━━━━\u001b[0m\u001b[37m\u001b[0m \u001b[1m6s\u001b[0m 10ms/step - accuracy: 0.9341 - loss: 0.1778 - val_accuracy: 0.8656 - val_loss: 0.4657\n",
            "Epoch 14/15\n",
            "\u001b[1m625/625\u001b[0m \u001b[32m━━━━━━━━━━━━━━━━━━━━\u001b[0m\u001b[37m\u001b[0m \u001b[1m6s\u001b[0m 9ms/step - accuracy: 0.9413 - loss: 0.1622 - val_accuracy: 0.8604 - val_loss: 0.5019\n",
            "Epoch 15/15\n",
            "\u001b[1m625/625\u001b[0m \u001b[32m━━━━━━━━━━━━━━━━━━━━\u001b[0m\u001b[37m\u001b[0m \u001b[1m6s\u001b[0m 9ms/step - accuracy: 0.9429 - loss: 0.1600 - val_accuracy: 0.8644 - val_loss: 0.4888\n"
          ]
        }
      ]
    },
    {
      "cell_type": "code",
      "source": [
        "# Evaluate\n",
        "loss, acc = model.evaluate(x_test, y_test_cat)\n",
        "print(f\"Test accuracy: {acc:.4f}\")"
      ],
      "metadata": {
        "colab": {
          "base_uri": "https://localhost:8080/"
        },
        "id": "enjbskRfi_VH",
        "outputId": "d32da5b2-7fa0-4bcb-f327-17b9390233e7"
      },
      "execution_count": null,
      "outputs": [
        {
          "output_type": "stream",
          "name": "stdout",
          "text": [
            "\u001b[1m313/313\u001b[0m \u001b[32m━━━━━━━━━━━━━━━━━━━━\u001b[0m\u001b[37m\u001b[0m \u001b[1m8s\u001b[0m 6ms/step - accuracy: 0.8707 - loss: 0.4906\n",
            "Test accuracy: 0.8640\n"
          ]
        }
      ]
    },
    {
      "cell_type": "code",
      "source": [
        "# Build transfer learning model\n",
        "base_model = MobileNetV2(input_shape=(96, 96, 3), include_top=False, weights='imagenet')\n",
        "base_model.trainable = False  # Freeze base"
      ],
      "metadata": {
        "id": "8gc-ICbXWlpy"
      },
      "execution_count": null,
      "outputs": []
    },
    {
      "cell_type": "code",
      "source": [
        "\n",
        "\n",
        "model = models.Sequential([\n",
        "    base_model,\n",
        "    layers.GlobalAveragePooling2D(), # Pool spatial features into a vector\n",
        "    layers.Dense(128, activation='relu'), # Fully connected layer to learn new patterns\n",
        "    layers.Dense(10, activation='softmax') # Output layer with 10 classes (Fashion MNIST)\n",
        "])"
      ],
      "metadata": {
        "id": "jC2D6qaxWxFM"
      },
      "execution_count": null,
      "outputs": []
    },
    {
      "cell_type": "code",
      "source": [
        "# Compile model\n",
        "# Compile the model with Adam optimizer and categorical crossentropy loss\n",
        "\n",
        "model.compile(optimizer='adam', loss='categorical_crossentropy', metrics=['accuracy'])"
      ],
      "metadata": {
        "id": "qlFtAmR5W5c8"
      },
      "execution_count": null,
      "outputs": []
    },
    {
      "cell_type": "code",
      "source": [
        "# Train\n",
        "history = model.fit(x_train_rgb, y_train_cat, validation_split=0.2, epochs=5, batch_size=64)"
      ],
      "metadata": {
        "colab": {
          "base_uri": "https://localhost:8080/"
        },
        "id": "fcOp5LQeW-Ld",
        "outputId": "cabe8849-2f40-40c7-ea69-e53dbc2d0bd3"
      },
      "execution_count": null,
      "outputs": [
        {
          "output_type": "stream",
          "name": "stdout",
          "text": [
            "Epoch 1/5\n",
            "\u001b[1m500/500\u001b[0m \u001b[32m━━━━━━━━━━━━━━━━━━━━\u001b[0m\u001b[37m\u001b[0m \u001b[1m22s\u001b[0m 20ms/step - accuracy: 0.1028 - loss: 2.3582 - val_accuracy: 0.1014 - val_loss: 2.3046\n",
            "Epoch 2/5\n",
            "\u001b[1m500/500\u001b[0m \u001b[32m━━━━━━━━━━━━━━━━━━━━\u001b[0m\u001b[37m\u001b[0m \u001b[1m5s\u001b[0m 11ms/step - accuracy: 0.0981 - loss: 2.3031 - val_accuracy: 0.1025 - val_loss: 2.3027\n",
            "Epoch 3/5\n",
            "\u001b[1m500/500\u001b[0m \u001b[32m━━━━━━━━━━━━━━━━━━━━\u001b[0m\u001b[37m\u001b[0m \u001b[1m5s\u001b[0m 11ms/step - accuracy: 0.1013 - loss: 2.3027 - val_accuracy: 0.1025 - val_loss: 2.3027\n",
            "Epoch 4/5\n",
            "\u001b[1m500/500\u001b[0m \u001b[32m━━━━━━━━━━━━━━━━━━━━\u001b[0m\u001b[37m\u001b[0m \u001b[1m5s\u001b[0m 11ms/step - accuracy: 0.1012 - loss: 2.3027 - val_accuracy: 0.1025 - val_loss: 2.3027\n",
            "Epoch 5/5\n",
            "\u001b[1m500/500\u001b[0m \u001b[32m━━━━━━━━━━━━━━━━━━━━\u001b[0m\u001b[37m\u001b[0m \u001b[1m5s\u001b[0m 11ms/step - accuracy: 0.1013 - loss: 2.3027 - val_accuracy: 0.1025 - val_loss: 2.3027\n"
          ]
        }
      ]
    },
    {
      "cell_type": "markdown",
      "source": [
        "STEP 3: Create Transfer Learning Models"
      ],
      "metadata": {
        "id": "uBJrvnsrVxPc"
      }
    },
    {
      "cell_type": "code",
      "source": [
        "def create_transfer_model(base_model_name, input_shape=(96, 96, 3), num_classes=10):\n",
        "    \"\"\"\n",
        "    Create a transfer learning model with different base architectures\n",
        "    \"\"\"\n",
        "    # Get the base model (pre-trained on ImageNet)\n",
        "    if base_model_name == 'VGG16':\n",
        "        base_model = VGG16(weights='imagenet',\n",
        "                          include_top=False,\n",
        "                          input_shape=input_shape)\n",
        "    elif base_model_name == 'ResNet50':\n",
        "        base_model = ResNet50(weights='imagenet',\n",
        "                             include_top=False,\n",
        "                             input_shape=input_shape)\n",
        "    elif base_model_name == 'MobileNetV2':\n",
        "        base_model = MobileNetV2(weights='imagenet',\n",
        "                                include_top=False,\n",
        "                                input_shape=input_shape)\n",
        "    else:\n",
        "        raise ValueError(\"Unsupported model name\")\n",
        "\n",
        "    # Freeze the base model initially\n",
        "    base_model.trainable = False\n",
        "\n",
        "    # Add custom classification head\n",
        "    model = models.Sequential([\n",
        "        base_model,\n",
        "        layers.GlobalAveragePooling2D(),\n",
        "        layers.Dropout(0.5),\n",
        "        layers.Dense(128, activation='relu'),\n",
        "        layers.Dropout(0.3),\n",
        "        layers.Dense(num_classes, activation='softmax')\n",
        "    ])\n",
        "\n",
        "    return model, base_model"
      ],
      "metadata": {
        "id": "adxYmNtbV4fQ"
      },
      "execution_count": null,
      "outputs": []
    },
    {
      "cell_type": "markdown",
      "source": [
        "STEP 4: Compare Different Pre-Trained Models"
      ],
      "metadata": {
        "id": "8ENFtfsbWfdP"
      }
    },
    {
      "cell_type": "code",
      "source": [
        "print(\"\\n=== CREATING TRANSFER LEARNING MODELS ===\")\n",
        "\n",
        "# Create different transfer learning models\n",
        "models_to_compare = ['VGG16', 'ResNet50', 'MobileNetV2']\n",
        "transfer_models = {}\n",
        "base_models = {}\n",
        "\n",
        "for model_name in models_to_compare:\n",
        "    print(f\"\\nCreating {model_name} transfer learning model...\")\n",
        "    model, base_model = create_transfer_model(model_name)\n",
        "    transfer_models[model_name] = model\n",
        "    base_models[model_name] = base_model\n",
        "\n",
        "    print(f\"{model_name} model created\")\n",
        "    print(f\"   - Base model parameters: {base_model.count_params():,}\")\n",
        "    print(f\"   - Total parameters: {model.count_params():,}\")\n",
        "    print(f\"   - Trainable parameters: {sum([tf.reduce_prod(var.shape) for var in model.trainable_variables]):,}\")\n"
      ],
      "metadata": {
        "id": "zQTkzQzOWe2b",
        "colab": {
          "base_uri": "https://localhost:8080/"
        },
        "outputId": "34ca0c11-f5c4-4513-fb43-d9243f7f8396"
      },
      "execution_count": null,
      "outputs": [
        {
          "output_type": "stream",
          "name": "stdout",
          "text": [
            "\n",
            "=== CREATING TRANSFER LEARNING MODELS ===\n",
            "\n",
            "Creating VGG16 transfer learning model...\n",
            "Downloading data from https://storage.googleapis.com/tensorflow/keras-applications/vgg16/vgg16_weights_tf_dim_ordering_tf_kernels_notop.h5\n",
            "\u001b[1m58889256/58889256\u001b[0m \u001b[32m━━━━━━━━━━━━━━━━━━━━\u001b[0m\u001b[37m\u001b[0m \u001b[1m0s\u001b[0m 0us/step\n",
            "VGG16 model created\n",
            "   - Base model parameters: 14,714,688\n",
            "   - Total parameters: 14,781,642\n",
            "   - Trainable parameters: 66,954\n",
            "\n",
            "Creating ResNet50 transfer learning model...\n",
            "Downloading data from https://storage.googleapis.com/tensorflow/keras-applications/resnet/resnet50_weights_tf_dim_ordering_tf_kernels_notop.h5\n",
            "\u001b[1m94765736/94765736\u001b[0m \u001b[32m━━━━━━━━━━━━━━━━━━━━\u001b[0m\u001b[37m\u001b[0m \u001b[1m0s\u001b[0m 0us/step\n",
            "ResNet50 model created\n",
            "   - Base model parameters: 23,587,712\n",
            "   - Total parameters: 23,851,274\n",
            "   - Trainable parameters: 263,562\n",
            "\n",
            "Creating MobileNetV2 transfer learning model...\n",
            "Downloading data from https://storage.googleapis.com/tensorflow/keras-applications/mobilenet_v2/mobilenet_v2_weights_tf_dim_ordering_tf_kernels_1.0_96_no_top.h5\n",
            "\u001b[1m9406464/9406464\u001b[0m \u001b[32m━━━━━━━━━━━━━━━━━━━━\u001b[0m\u001b[37m\u001b[0m \u001b[1m0s\u001b[0m 0us/step\n",
            "MobileNetV2 model created\n",
            "   - Base model parameters: 2,257,984\n",
            "   - Total parameters: 2,423,242\n",
            "   - Trainable parameters: 165,258\n"
          ]
        }
      ]
    },
    {
      "cell_type": "code",
      "source": [
        "import keras"
      ],
      "metadata": {
        "id": "9-nTKXmulA89"
      },
      "execution_count": null,
      "outputs": []
    },
    {
      "cell_type": "markdown",
      "source": [
        "STEP 5: Train Transfer Learning Models\n"
      ],
      "metadata": {
        "id": "-6KMyOvWW_aa"
      }
    },
    {
      "cell_type": "code",
      "source": [
        "def train_transfer_model(model, model_name, x_train, y_train, x_val, y_val):\n",
        "    \"\"\"Train a transfer learning model with two stages\"\"\"\n",
        "\n",
        "    print(f\"\\n Training {model_name} Transfer Learning Model...\")\n",
        "\n",
        "    # Compile model\n",
        "    model.compile(optimizer=keras.optimizers.Adam(learning_rate=0.001), loss='categorical_crossentropy', metrics=['accuracy'])\n",
        "\n",
        "    # Create callbacks\n",
        "    early_stopping = callbacks.EarlyStopping(monitor='val_accuracy', patience=5, restore_best_weights=True, verbose=1)\n",
        "\n",
        "    reduce_lr = callbacks.ReduceLROnPlateau(monitor='val_loss', factor=0.2, patience=3, min_lr=1e-7, verbose=1)\n",
        "\n",
        "    # Stage 1: Train with frozen base model(Feature Extraction)\n",
        "    print(f\"Stage 1: Training classifier head (base model frozen)...\")\n",
        "\n",
        "    history_stage1 = model.fit(\n",
        "        x_train, y_train,\n",
        "        batch_size=32,\n",
        "        epochs=10,\n",
        "        validation_data=(x_val, y_val),\n",
        "        callbacks=[early_stopping, reduce_lr],\n",
        "        verbose=1\n",
        "    )\n",
        "\n",
        "    # Stage 2: Fine-tune with unfrozen layers\n",
        "    print(f\"Stage 2: Fine-tuning (unfreezing some layers)...\")\n",
        "\n",
        "    # Unfreeze some layers for fine-tuning\n",
        "    base_model = model.layers[0]\n",
        "    base_model.trainable = True\n",
        "\n",
        "    # Freeze early layers, unfreeze later layers\n",
        "    for layer in base_model.layers[:-20]:  # Freeze all but last 20 layers\n",
        "        layer.trainable = False\n",
        "\n",
        "    # Recompile with lower learning rate for fine-tuning\n",
        "    model.compile(optimizer=keras.optimizers.Adam(learning_rate=0.0001),  # Lower learning rate\n",
        "        loss='categorical_crossentropy',\n",
        "        metrics=['accuracy']\n",
        "    )\n",
        "\n",
        "    # Continue training\n",
        "    history_stage2 = model.fit(\n",
        "        x_train, y_train,\n",
        "        batch_size=32,\n",
        "        epochs=10,\n",
        "        validation_data=(x_val, y_val),\n",
        "        callbacks=[early_stopping, reduce_lr],\n",
        "        verbose=1\n",
        "    )\n",
        "\n",
        "    # Combine training histories\n",
        "    combined_history = {\n",
        "        'accuracy': history_stage1.history['accuracy'] + history_stage2.history['accuracy'],\n",
        "        'val_accuracy': history_stage1.history['val_accuracy'] + history_stage2.history['val_accuracy'],\n",
        "        'loss': history_stage1.history['loss'] + history_stage2.history['loss'],\n",
        "        'val_loss': history_stage1.history['val_loss'] + history_stage2.history['val_loss']\n",
        "    }\n",
        "\n",
        "    return model, combined_history\n",
        "\n",
        "# Train all transfer learning models\n",
        "print(\"\\n=== TRAINING ALL TRANSFER LEARNING MODELS ===\")\n",
        "\n",
        "trained_models = {}\n",
        "training_histories = {}\n",
        "\n",
        "for model_name in models_to_compare:\n",
        "    model = transfer_models[model_name]\n",
        "    trained_model, history = train_transfer_model(\n",
        "        model, model_name,\n",
        "        x_train, y_train_cat,\n",
        "        x_test, y_test_cat\n",
        "    )\n",
        "    trained_models[model_name] = trained_model\n",
        "    training_histories[model_name] = history\n",
        "\n",
        "    # Quick evaluation\n",
        "    val_loss, val_accuracy = trained_model.evaluate(x_test, y_test_cat, verbose=0)\n",
        "    print(f\"{model_name} - Final Validation Accuracy: {val_accuracy:.4f} ({val_accuracy*100:.2f}%)\")\n"
      ],
      "metadata": {
        "id": "h7kgrpnuXNrC",
        "colab": {
          "base_uri": "https://localhost:8080/"
        },
        "outputId": "6c7fa82a-f3a9-407d-ed82-f73d160b3c4f"
      },
      "execution_count": null,
      "outputs": [
        {
          "output_type": "stream",
          "name": "stdout",
          "text": [
            "\n",
            "=== TRAINING ALL TRANSFER LEARNING MODELS ===\n",
            "\n",
            " Training VGG16 Transfer Learning Model...\n",
            "Stage 1: Training classifier head (base model frozen)...\n",
            "Epoch 1/10\n",
            "\u001b[1m1563/1563\u001b[0m \u001b[32m━━━━━━━━━━━━━━━━━━━━\u001b[0m\u001b[37m\u001b[0m \u001b[1m21s\u001b[0m 11ms/step - accuracy: 0.4303 - loss: 1.6363 - val_accuracy: 0.6779 - val_loss: 0.9705 - learning_rate: 0.0010\n",
            "Epoch 2/10\n",
            "\u001b[1m1563/1563\u001b[0m \u001b[32m━━━━━━━━━━━━━━━━━━━━\u001b[0m\u001b[37m\u001b[0m \u001b[1m11s\u001b[0m 7ms/step - accuracy: 0.5862 - loss: 1.1861 - val_accuracy: 0.6939 - val_loss: 0.9207 - learning_rate: 0.0010\n",
            "Epoch 3/10\n",
            "\u001b[1m1563/1563\u001b[0m \u001b[32m━━━━━━━━━━━━━━━━━━━━\u001b[0m\u001b[37m\u001b[0m \u001b[1m11s\u001b[0m 7ms/step - accuracy: 0.5987 - loss: 1.1399 - val_accuracy: 0.7003 - val_loss: 0.9102 - learning_rate: 0.0010\n",
            "Epoch 4/10\n",
            "\u001b[1m1563/1563\u001b[0m \u001b[32m━━━━━━━━━━━━━━━━━━━━\u001b[0m\u001b[37m\u001b[0m \u001b[1m11s\u001b[0m 7ms/step - accuracy: 0.6080 - loss: 1.1242 - val_accuracy: 0.7056 - val_loss: 0.8932 - learning_rate: 0.0010\n",
            "Epoch 5/10\n",
            "\u001b[1m1563/1563\u001b[0m \u001b[32m━━━━━━━━━━━━━━━━━━━━\u001b[0m\u001b[37m\u001b[0m \u001b[1m11s\u001b[0m 7ms/step - accuracy: 0.6191 - loss: 1.0945 - val_accuracy: 0.7137 - val_loss: 0.8762 - learning_rate: 0.0010\n",
            "Epoch 6/10\n",
            "\u001b[1m1563/1563\u001b[0m \u001b[32m━━━━━━━━━━━━━━━━━━━━\u001b[0m\u001b[37m\u001b[0m \u001b[1m11s\u001b[0m 7ms/step - accuracy: 0.6163 - loss: 1.0881 - val_accuracy: 0.7120 - val_loss: 0.8686 - learning_rate: 0.0010\n",
            "Epoch 7/10\n",
            "\u001b[1m1563/1563\u001b[0m \u001b[32m━━━━━━━━━━━━━━━━━━━━\u001b[0m\u001b[37m\u001b[0m \u001b[1m11s\u001b[0m 7ms/step - accuracy: 0.6213 - loss: 1.0808 - val_accuracy: 0.7209 - val_loss: 0.8615 - learning_rate: 0.0010\n",
            "Epoch 8/10\n",
            "\u001b[1m1563/1563\u001b[0m \u001b[32m━━━━━━━━━━━━━━━━━━━━\u001b[0m\u001b[37m\u001b[0m \u001b[1m11s\u001b[0m 7ms/step - accuracy: 0.6317 - loss: 1.0557 - val_accuracy: 0.7204 - val_loss: 0.8518 - learning_rate: 0.0010\n",
            "Epoch 9/10\n",
            "\u001b[1m1563/1563\u001b[0m \u001b[32m━━━━━━━━━━━━━━━━━━━━\u001b[0m\u001b[37m\u001b[0m \u001b[1m11s\u001b[0m 7ms/step - accuracy: 0.6315 - loss: 1.0608 - val_accuracy: 0.7195 - val_loss: 0.8493 - learning_rate: 0.0010\n",
            "Epoch 10/10\n",
            "\u001b[1m1563/1563\u001b[0m \u001b[32m━━━━━━━━━━━━━━━━━━━━\u001b[0m\u001b[37m\u001b[0m \u001b[1m11s\u001b[0m 7ms/step - accuracy: 0.6297 - loss: 1.0561 - val_accuracy: 0.7229 - val_loss: 0.8517 - learning_rate: 0.0010\n",
            "Restoring model weights from the end of the best epoch: 10.\n",
            "Stage 2: Fine-tuning (unfreezing some layers)...\n",
            "Epoch 1/10\n",
            "\u001b[1m1563/1563\u001b[0m \u001b[32m━━━━━━━━━━━━━━━━━━━━\u001b[0m\u001b[37m\u001b[0m \u001b[1m44s\u001b[0m 22ms/step - accuracy: 0.6646 - loss: 0.9896 - val_accuracy: 0.8776 - val_loss: 0.3628 - learning_rate: 1.0000e-04\n",
            "Epoch 2/10\n",
            "\u001b[1m1563/1563\u001b[0m \u001b[32m━━━━━━━━━━━━━━━━━━━━\u001b[0m\u001b[37m\u001b[0m \u001b[1m27s\u001b[0m 17ms/step - accuracy: 0.8837 - loss: 0.3553 - val_accuracy: 0.8985 - val_loss: 0.3086 - learning_rate: 1.0000e-04\n",
            "Epoch 3/10\n",
            "\u001b[1m1563/1563\u001b[0m \u001b[32m━━━━━━━━━━━━━━━━━━━━\u001b[0m\u001b[37m\u001b[0m \u001b[1m27s\u001b[0m 17ms/step - accuracy: 0.9168 - loss: 0.2539 - val_accuracy: 0.8916 - val_loss: 0.3577 - learning_rate: 1.0000e-04\n",
            "Epoch 4/10\n",
            "\u001b[1m1563/1563\u001b[0m \u001b[32m━━━━━━━━━━━━━━━━━━━━\u001b[0m\u001b[37m\u001b[0m \u001b[1m27s\u001b[0m 17ms/step - accuracy: 0.9405 - loss: 0.1832 - val_accuracy: 0.9051 - val_loss: 0.3008 - learning_rate: 1.0000e-04\n",
            "Epoch 5/10\n",
            "\u001b[1m1563/1563\u001b[0m \u001b[32m━━━━━━━━━━━━━━━━━━━━\u001b[0m\u001b[37m\u001b[0m \u001b[1m27s\u001b[0m 17ms/step - accuracy: 0.9560 - loss: 0.1368 - val_accuracy: 0.8865 - val_loss: 0.4207 - learning_rate: 1.0000e-04\n",
            "Epoch 6/10\n",
            "\u001b[1m1563/1563\u001b[0m \u001b[32m━━━━━━━━━━━━━━━━━━━━\u001b[0m\u001b[37m\u001b[0m \u001b[1m27s\u001b[0m 17ms/step - accuracy: 0.9634 - loss: 0.1136 - val_accuracy: 0.9015 - val_loss: 0.3761 - learning_rate: 1.0000e-04\n",
            "Epoch 7/10\n",
            "\u001b[1m1560/1563\u001b[0m \u001b[32m━━━━━━━━━━━━━━━━━━━\u001b[0m\u001b[37m━\u001b[0m \u001b[1m0s\u001b[0m 16ms/step - accuracy: 0.9705 - loss: 0.0959\n",
            "Epoch 7: ReduceLROnPlateau reducing learning rate to 1.9999999494757503e-05.\n",
            "\u001b[1m1563/1563\u001b[0m \u001b[32m━━━━━━━━━━━━━━━━━━━━\u001b[0m\u001b[37m\u001b[0m \u001b[1m27s\u001b[0m 17ms/step - accuracy: 0.9705 - loss: 0.0959 - val_accuracy: 0.8904 - val_loss: 0.4080 - learning_rate: 1.0000e-04\n",
            "Epoch 8/10\n",
            "\u001b[1m1563/1563\u001b[0m \u001b[32m━━━━━━━━━━━━━━━━━━━━\u001b[0m\u001b[37m\u001b[0m \u001b[1m27s\u001b[0m 17ms/step - accuracy: 0.9871 - loss: 0.0396 - val_accuracy: 0.9420 - val_loss: 0.2500 - learning_rate: 2.0000e-05\n",
            "Epoch 9/10\n",
            "\u001b[1m1563/1563\u001b[0m \u001b[32m━━━━━━━━━━━━━━━━━━━━\u001b[0m\u001b[37m\u001b[0m \u001b[1m27s\u001b[0m 17ms/step - accuracy: 0.9981 - loss: 0.0068 - val_accuracy: 0.9440 - val_loss: 0.2975 - learning_rate: 2.0000e-05\n",
            "Epoch 10/10\n",
            "\u001b[1m1563/1563\u001b[0m \u001b[32m━━━━━━━━━━━━━━━━━━━━\u001b[0m\u001b[37m\u001b[0m \u001b[1m27s\u001b[0m 17ms/step - accuracy: 0.9992 - loss: 0.0036 - val_accuracy: 0.9250 - val_loss: 0.4676 - learning_rate: 2.0000e-05\n",
            "Restoring model weights from the end of the best epoch: 9.\n",
            "VGG16 - Final Validation Accuracy: 0.9440 (94.40%)\n",
            "\n",
            " Training ResNet50 Transfer Learning Model...\n",
            "Stage 1: Training classifier head (base model frozen)...\n",
            "Epoch 1/10\n",
            "\u001b[1m1563/1563\u001b[0m \u001b[32m━━━━━━━━━━━━━━━━━━━━\u001b[0m\u001b[37m\u001b[0m \u001b[1m39s\u001b[0m 18ms/step - accuracy: 0.1745 - loss: 2.2147 - val_accuracy: 0.3323 - val_loss: 1.9018 - learning_rate: 0.0010\n",
            "Epoch 2/10\n",
            "\u001b[1m1563/1563\u001b[0m \u001b[32m━━━━━━━━━━━━━━━━━━━━\u001b[0m\u001b[37m\u001b[0m \u001b[1m16s\u001b[0m 10ms/step - accuracy: 0.2729 - loss: 1.9834 - val_accuracy: 0.3393 - val_loss: 1.8530 - learning_rate: 0.0010\n",
            "Epoch 3/10\n",
            "\u001b[1m1563/1563\u001b[0m \u001b[32m━━━━━━━━━━━━━━━━━━━━\u001b[0m\u001b[37m\u001b[0m \u001b[1m16s\u001b[0m 10ms/step - accuracy: 0.2835 - loss: 1.9503 - val_accuracy: 0.3640 - val_loss: 1.8260 - learning_rate: 0.0010\n",
            "Epoch 4/10\n",
            "\u001b[1m1563/1563\u001b[0m \u001b[32m━━━━━━━━━━━━━━━━━━━━\u001b[0m\u001b[37m\u001b[0m \u001b[1m16s\u001b[0m 10ms/step - accuracy: 0.2899 - loss: 1.9321 - val_accuracy: 0.3674 - val_loss: 1.8149 - learning_rate: 0.0010\n",
            "Epoch 5/10\n",
            "\u001b[1m1563/1563\u001b[0m \u001b[32m━━━━━━━━━━━━━━━━━━━━\u001b[0m\u001b[37m\u001b[0m \u001b[1m16s\u001b[0m 10ms/step - accuracy: 0.2972 - loss: 1.9159 - val_accuracy: 0.3718 - val_loss: 1.7973 - learning_rate: 0.0010\n",
            "Epoch 6/10\n",
            "\u001b[1m1563/1563\u001b[0m \u001b[32m━━━━━━━━━━━━━━━━━━━━\u001b[0m\u001b[37m\u001b[0m \u001b[1m16s\u001b[0m 10ms/step - accuracy: 0.3029 - loss: 1.9046 - val_accuracy: 0.3863 - val_loss: 1.7832 - learning_rate: 0.0010\n",
            "Epoch 7/10\n",
            "\u001b[1m1563/1563\u001b[0m \u001b[32m━━━━━━━━━━━━━━━━━━━━\u001b[0m\u001b[37m\u001b[0m \u001b[1m16s\u001b[0m 10ms/step - accuracy: 0.3107 - loss: 1.8986 - val_accuracy: 0.3783 - val_loss: 1.7686 - learning_rate: 0.0010\n",
            "Epoch 8/10\n",
            "\u001b[1m1563/1563\u001b[0m \u001b[32m━━━━━━━━━━━━━━━━━━━━\u001b[0m\u001b[37m\u001b[0m \u001b[1m15s\u001b[0m 10ms/step - accuracy: 0.3112 - loss: 1.8929 - val_accuracy: 0.3840 - val_loss: 1.7601 - learning_rate: 0.0010\n",
            "Epoch 9/10\n",
            "\u001b[1m1563/1563\u001b[0m \u001b[32m━━━━━━━━━━━━━━━━━━━━\u001b[0m\u001b[37m\u001b[0m \u001b[1m16s\u001b[0m 10ms/step - accuracy: 0.3089 - loss: 1.8859 - val_accuracy: 0.3771 - val_loss: 1.7661 - learning_rate: 0.0010\n",
            "Epoch 10/10\n",
            "\u001b[1m1563/1563\u001b[0m \u001b[32m━━━━━━━━━━━━━━━━━━━━\u001b[0m\u001b[37m\u001b[0m \u001b[1m16s\u001b[0m 10ms/step - accuracy: 0.3097 - loss: 1.8854 - val_accuracy: 0.3858 - val_loss: 1.7529 - learning_rate: 0.0010\n",
            "Restoring model weights from the end of the best epoch: 6.\n",
            "Stage 2: Fine-tuning (unfreezing some layers)...\n",
            "Epoch 1/10\n",
            "\u001b[1m1563/1563\u001b[0m \u001b[32m━━━━━━━━━━━━━━━━━━━━\u001b[0m\u001b[37m\u001b[0m \u001b[1m47s\u001b[0m 20ms/step - accuracy: 0.2973 - loss: 2.5002 - val_accuracy: 0.4093 - val_loss: 1.6323 - learning_rate: 1.0000e-04\n",
            "Epoch 2/10\n",
            "\u001b[1m1563/1563\u001b[0m \u001b[32m━━━━━━━━━━━━━━━━━━━━\u001b[0m\u001b[37m\u001b[0m \u001b[1m19s\u001b[0m 12ms/step - accuracy: 0.4489 - loss: 1.5527 - val_accuracy: 0.4992 - val_loss: 1.4176 - learning_rate: 1.0000e-04\n",
            "Epoch 3/10\n",
            "\u001b[1m1563/1563\u001b[0m \u001b[32m━━━━━━━━━━━━━━━━━━━━\u001b[0m\u001b[37m\u001b[0m \u001b[1m19s\u001b[0m 12ms/step - accuracy: 0.4960 - loss: 1.4268 - val_accuracy: 0.5092 - val_loss: 1.3766 - learning_rate: 1.0000e-04\n",
            "Epoch 4/10\n",
            "\u001b[1m1563/1563\u001b[0m \u001b[32m━━━━━━━━━━━━━━━━━━━━\u001b[0m\u001b[37m\u001b[0m \u001b[1m19s\u001b[0m 12ms/step - accuracy: 0.5253 - loss: 1.3543 - val_accuracy: 0.5307 - val_loss: 1.3038 - learning_rate: 1.0000e-04\n",
            "Epoch 5/10\n",
            "\u001b[1m1563/1563\u001b[0m \u001b[32m━━━━━━━━━━━━━━━━━━━━\u001b[0m\u001b[37m\u001b[0m \u001b[1m19s\u001b[0m 12ms/step - accuracy: 0.5535 - loss: 1.2769 - val_accuracy: 0.5211 - val_loss: 1.3534 - learning_rate: 1.0000e-04\n",
            "Epoch 6/10\n",
            "\u001b[1m1563/1563\u001b[0m \u001b[32m━━━━━━━━━━━━━━━━━━━━\u001b[0m\u001b[37m\u001b[0m \u001b[1m19s\u001b[0m 12ms/step - accuracy: 0.5735 - loss: 1.2191 - val_accuracy: 0.5752 - val_loss: 1.2123 - learning_rate: 1.0000e-04\n",
            "Epoch 7/10\n",
            "\u001b[1m1563/1563\u001b[0m \u001b[32m━━━━━━━━━━━━━━━━━━━━\u001b[0m\u001b[37m\u001b[0m \u001b[1m19s\u001b[0m 12ms/step - accuracy: 0.5936 - loss: 1.1583 - val_accuracy: 0.5625 - val_loss: 1.2526 - learning_rate: 1.0000e-04\n",
            "Epoch 8/10\n",
            "\u001b[1m1563/1563\u001b[0m \u001b[32m━━━━━━━━━━━━━━━━━━━━\u001b[0m\u001b[37m\u001b[0m \u001b[1m19s\u001b[0m 12ms/step - accuracy: 0.6118 - loss: 1.1080 - val_accuracy: 0.5851 - val_loss: 1.1745 - learning_rate: 1.0000e-04\n",
            "Epoch 9/10\n",
            "\u001b[1m1563/1563\u001b[0m \u001b[32m━━━━━━━━━━━━━━━━━━━━\u001b[0m\u001b[37m\u001b[0m \u001b[1m19s\u001b[0m 12ms/step - accuracy: 0.6289 - loss: 1.0560 - val_accuracy: 0.5819 - val_loss: 1.2144 - learning_rate: 1.0000e-04\n",
            "Epoch 10/10\n",
            "\u001b[1m1563/1563\u001b[0m \u001b[32m━━━━━━━━━━━━━━━━━━━━\u001b[0m\u001b[37m\u001b[0m \u001b[1m19s\u001b[0m 12ms/step - accuracy: 0.6457 - loss: 1.0076 - val_accuracy: 0.5822 - val_loss: 1.2118 - learning_rate: 1.0000e-04\n",
            "Restoring model weights from the end of the best epoch: 8.\n",
            "ResNet50 - Final Validation Accuracy: 0.5851 (58.51%)\n",
            "\n",
            " Training MobileNetV2 Transfer Learning Model...\n",
            "Stage 1: Training classifier head (base model frozen)...\n",
            "Epoch 1/10\n",
            "\u001b[1m1563/1563\u001b[0m \u001b[32m━━━━━━━━━━━━━━━━━━━━\u001b[0m\u001b[37m\u001b[0m \u001b[1m28s\u001b[0m 12ms/step - accuracy: 0.6665 - loss: 1.0341 - val_accuracy: 0.8444 - val_loss: 0.4672 - learning_rate: 0.0010\n",
            "Epoch 2/10\n",
            "\u001b[1m1563/1563\u001b[0m \u001b[32m━━━━━━━━━━━━━━━━━━━━\u001b[0m\u001b[37m\u001b[0m \u001b[1m12s\u001b[0m 7ms/step - accuracy: 0.7908 - loss: 0.6124 - val_accuracy: 0.8493 - val_loss: 0.4476 - learning_rate: 0.0010\n",
            "Epoch 3/10\n",
            "\u001b[1m1563/1563\u001b[0m \u001b[32m━━━━━━━━━━━━━━━━━━━━\u001b[0m\u001b[37m\u001b[0m \u001b[1m12s\u001b[0m 7ms/step - accuracy: 0.8044 - loss: 0.5694 - val_accuracy: 0.8516 - val_loss: 0.4427 - learning_rate: 0.0010\n",
            "Epoch 4/10\n",
            "\u001b[1m1563/1563\u001b[0m \u001b[32m━━━━━━━━━━━━━━━━━━━━\u001b[0m\u001b[37m\u001b[0m \u001b[1m11s\u001b[0m 7ms/step - accuracy: 0.8148 - loss: 0.5466 - val_accuracy: 0.8545 - val_loss: 0.4289 - learning_rate: 0.0010\n",
            "Epoch 5/10\n",
            "\u001b[1m1563/1563\u001b[0m \u001b[32m━━━━━━━━━━━━━━━━━━━━\u001b[0m\u001b[37m\u001b[0m \u001b[1m12s\u001b[0m 7ms/step - accuracy: 0.8159 - loss: 0.5400 - val_accuracy: 0.8596 - val_loss: 0.4201 - learning_rate: 0.0010\n",
            "Epoch 6/10\n",
            "\u001b[1m1563/1563\u001b[0m \u001b[32m━━━━━━━━━━━━━━━━━━━━\u001b[0m\u001b[37m\u001b[0m \u001b[1m12s\u001b[0m 7ms/step - accuracy: 0.8190 - loss: 0.5238 - val_accuracy: 0.8565 - val_loss: 0.4233 - learning_rate: 0.0010\n",
            "Epoch 7/10\n",
            "\u001b[1m1563/1563\u001b[0m \u001b[32m━━━━━━━━━━━━━━━━━━━━\u001b[0m\u001b[37m\u001b[0m \u001b[1m12s\u001b[0m 7ms/step - accuracy: 0.8204 - loss: 0.5217 - val_accuracy: 0.8618 - val_loss: 0.4202 - learning_rate: 0.0010\n",
            "Epoch 8/10\n",
            "\u001b[1m1563/1563\u001b[0m \u001b[32m━━━━━━━━━━━━━━━━━━━━\u001b[0m\u001b[37m\u001b[0m \u001b[1m12s\u001b[0m 7ms/step - accuracy: 0.8220 - loss: 0.5122 - val_accuracy: 0.8633 - val_loss: 0.4087 - learning_rate: 0.0010\n",
            "Epoch 9/10\n",
            "\u001b[1m1563/1563\u001b[0m \u001b[32m━━━━━━━━━━━━━━━━━━━━\u001b[0m\u001b[37m\u001b[0m \u001b[1m12s\u001b[0m 7ms/step - accuracy: 0.8296 - loss: 0.5024 - val_accuracy: 0.8617 - val_loss: 0.4092 - learning_rate: 0.0010\n",
            "Epoch 10/10\n",
            "\u001b[1m1563/1563\u001b[0m \u001b[32m━━━━━━━━━━━━━━━━━━━━\u001b[0m\u001b[37m\u001b[0m \u001b[1m12s\u001b[0m 7ms/step - accuracy: 0.8309 - loss: 0.4844 - val_accuracy: 0.8649 - val_loss: 0.4040 - learning_rate: 0.0010\n",
            "Restoring model weights from the end of the best epoch: 10.\n",
            "Stage 2: Fine-tuning (unfreezing some layers)...\n",
            "Epoch 1/10\n",
            "\u001b[1m1563/1563\u001b[0m \u001b[32m━━━━━━━━━━━━━━━━━━━━\u001b[0m\u001b[37m\u001b[0m \u001b[1m39s\u001b[0m 16ms/step - accuracy: 0.7886 - loss: 0.7287 - val_accuracy: 0.8617 - val_loss: 0.4180 - learning_rate: 1.0000e-04\n",
            "Epoch 2/10\n",
            "\u001b[1m1563/1563\u001b[0m \u001b[32m━━━━━━━━━━━━━━━━━━━━\u001b[0m\u001b[37m\u001b[0m \u001b[1m14s\u001b[0m 9ms/step - accuracy: 0.8744 - loss: 0.3710 - val_accuracy: 0.8804 - val_loss: 0.3723 - learning_rate: 1.0000e-04\n",
            "Epoch 3/10\n",
            "\u001b[1m1563/1563\u001b[0m \u001b[32m━━━━━━━━━━━━━━━━━━━━\u001b[0m\u001b[37m\u001b[0m \u001b[1m14s\u001b[0m 9ms/step - accuracy: 0.9075 - loss: 0.2691 - val_accuracy: 0.8285 - val_loss: 0.7248 - learning_rate: 1.0000e-04\n",
            "Epoch 4/10\n",
            "\u001b[1m1563/1563\u001b[0m \u001b[32m━━━━━━━━━━━━━━━━━━━━\u001b[0m\u001b[37m\u001b[0m \u001b[1m14s\u001b[0m 9ms/step - accuracy: 0.9272 - loss: 0.2087 - val_accuracy: 0.8379 - val_loss: 0.6826 - learning_rate: 1.0000e-04\n",
            "Epoch 5/10\n",
            "\u001b[1m1563/1563\u001b[0m \u001b[32m━━━━━━━━━━━━━━━━━━━━\u001b[0m\u001b[37m\u001b[0m \u001b[1m0s\u001b[0m 8ms/step - accuracy: 0.9432 - loss: 0.1619\n",
            "Epoch 5: ReduceLROnPlateau reducing learning rate to 1.9999999494757503e-05.\n",
            "\u001b[1m1563/1563\u001b[0m \u001b[32m━━━━━━━━━━━━━━━━━━━━\u001b[0m\u001b[37m\u001b[0m \u001b[1m14s\u001b[0m 9ms/step - accuracy: 0.9432 - loss: 0.1619 - val_accuracy: 0.8868 - val_loss: 0.4590 - learning_rate: 1.0000e-04\n",
            "Epoch 6/10\n",
            "\u001b[1m1563/1563\u001b[0m \u001b[32m━━━━━━━━━━━━━━━━━━━━\u001b[0m\u001b[37m\u001b[0m \u001b[1m14s\u001b[0m 9ms/step - accuracy: 0.9634 - loss: 0.1049 - val_accuracy: 0.9016 - val_loss: 0.3891 - learning_rate: 2.0000e-05\n",
            "Epoch 7/10\n",
            "\u001b[1m1563/1563\u001b[0m \u001b[32m━━━━━━━━━━━━━━━━━━━━\u001b[0m\u001b[37m\u001b[0m \u001b[1m14s\u001b[0m 9ms/step - accuracy: 0.9768 - loss: 0.0693 - val_accuracy: 0.9021 - val_loss: 0.4230 - learning_rate: 2.0000e-05\n",
            "Epoch 8/10\n",
            "\u001b[1m1556/1563\u001b[0m \u001b[32m━━━━━━━━━━━━━━━━━━━\u001b[0m\u001b[37m━\u001b[0m \u001b[1m0s\u001b[0m 7ms/step - accuracy: 0.9827 - loss: 0.0521\n",
            "Epoch 8: ReduceLROnPlateau reducing learning rate to 3.999999898951501e-06.\n",
            "\u001b[1m1563/1563\u001b[0m \u001b[32m━━━━━━━━━━━━━━━━━━━━\u001b[0m\u001b[37m\u001b[0m \u001b[1m14s\u001b[0m 9ms/step - accuracy: 0.9827 - loss: 0.0521 - val_accuracy: 0.9012 - val_loss: 0.4430 - learning_rate: 2.0000e-05\n",
            "Epoch 9/10\n",
            "\u001b[1m1563/1563\u001b[0m \u001b[32m━━━━━━━━━━━━━━━━━━━━\u001b[0m\u001b[37m\u001b[0m \u001b[1m14s\u001b[0m 9ms/step - accuracy: 0.9868 - loss: 0.0420 - val_accuracy: 0.9029 - val_loss: 0.4464 - learning_rate: 4.0000e-06\n",
            "Epoch 10/10\n",
            "\u001b[1m1563/1563\u001b[0m \u001b[32m━━━━━━━━━━━━━━━━━━━━\u001b[0m\u001b[37m\u001b[0m \u001b[1m14s\u001b[0m 9ms/step - accuracy: 0.9883 - loss: 0.0363 - val_accuracy: 0.9039 - val_loss: 0.4531 - learning_rate: 4.0000e-06\n",
            "Restoring model weights from the end of the best epoch: 10.\n",
            "MobileNetV2 - Final Validation Accuracy: 0.9039 (90.39%)\n"
          ]
        }
      ]
    },
    {
      "cell_type": "markdown",
      "source": [
        "STEP 6: Compare all Model Performance"
      ],
      "metadata": {
        "id": "_K_1Tu62dqXW"
      }
    },
    {
      "cell_type": "code",
      "source": [
        "print(\"\\n=== MODEL COMPARISON ===\")\n",
        "\n",
        "# Create comparison dataframe\n",
        "model_comparison = {}\n",
        "\n",
        "try:\n",
        "    custom_val_loss, custom_val_acc = custom_cnn.evaluate(x_val, y_val, verbose=0)\n",
        "    model_comparison['Custom CNN'] = {\n",
        "        'val_accuracy': custom_val_acc,\n",
        "        'val_loss': custom_val_loss,\n",
        "        'parameters': custom_cnn.count_params()\n",
        "    }\n",
        "except:\n",
        "    print(\" Custom CNN not found, skipping comparison\")\n",
        "\n",
        "# Add transfer learning results\n",
        "for model_name in models_to_compare:\n",
        "    model = trained_models[model_name]\n",
        "    val_loss, val_accuracy = model.evaluate(x_val_resized, y_val, verbose=0)\n",
        "    model_comparison[model_name] = {\n",
        "        'val_accuracy': val_accuracy,\n",
        "        'val_loss': val_loss,\n",
        "        'parameters': model.count_params()\n",
        "    }\n",
        "\n",
        "# Display comparison table\n",
        "print(\"\\n MODEL PERFORMANCE COMPARISON:\")\n",
        "print(\"-\" * 70)\n",
        "print(f\"{'Model':<15} {'Val Accuracy':<15} {'Val Loss':<12} {'Parameters':<15}\")\n",
        "print(\"-\" * 70)\n",
        "\n",
        "for model_name, metrics in model_comparison.items():\n",
        "    acc = metrics['val_accuracy']\n",
        "    loss = metrics['val_loss']\n",
        "    params = metrics['parameters']\n",
        "    print(f\"{model_name:<15} {acc:.4f} ({acc*100:.1f}%){'':<3} {loss:.4f}{'':<6} {params:,}\")\n",
        "\n",
        "print(\"-\" * 70)\n",
        "\n",
        "# Find best model\n",
        "best_model_name = max(model_comparison.keys(), key=lambda x: model_comparison[x]['val_accuracy'])\n",
        "best_accuracy = model_comparison[best_model_name]['val_accuracy']\n",
        "print(f\"Best Model: {best_model_name} with {best_accuracy:.4f} ({best_accuracy*100:.2f}%) accuracy\")"
      ],
      "metadata": {
        "id": "3rpL3gMEd7p8",
        "colab": {
          "base_uri": "https://localhost:8080/"
        },
        "outputId": "9685328a-4148-4b97-b528-8b8091205337"
      },
      "execution_count": null,
      "outputs": [
        {
          "output_type": "stream",
          "name": "stdout",
          "text": [
            "\n",
            "=== MODEL COMPARISON ===\n",
            "\n",
            " MODEL PERFORMANCE COMPARISON:\n",
            "----------------------------------------------------------------------\n",
            "Model           Val Accuracy    Val Loss     Parameters     \n",
            "----------------------------------------------------------------------\n",
            "Custom CNN      0.1025 (10.2%)    2.3026       1,469,994\n",
            "VGG16           0.1003 (10.0%)    3.5511       14,781,642\n",
            "ResNet50        0.1014 (10.1%)    4.3535       23,851,274\n",
            "MobileNetV2     0.1014 (10.1%)    6.4727       2,423,242\n",
            "----------------------------------------------------------------------\n",
            "Best Model: Custom CNN with 0.1025 (10.25%) accuracy\n"
          ]
        }
      ]
    },
    {
      "cell_type": "code",
      "source": [
        "print(\"\\n=== MODEL COMPARISON ===\")\n",
        "\n",
        "# Create comparison dataframe\n",
        "model_comparison = {}\n",
        "\n",
        "# Variable to store the best model object and its accuracy\n",
        "best_model_object = None\n",
        "highest_accuracy = -1.0\n",
        "\n",
        "try:\n",
        "    # Evaluate the custom CNN\n",
        "    custom_val_loss, custom_val_acc = custom_cnn.evaluate(x_val, y_val, verbose=0)\n",
        "    model_comparison['Custom CNN'] = {\n",
        "        'val_accuracy': custom_val_acc,\n",
        "        'val_loss': custom_val_loss,\n",
        "        'parameters': custom_cnn.count_params()\n",
        "    }\n",
        "    # Update best model if Custom CNN is better\n",
        "    if custom_val_acc > highest_accuracy:\n",
        "        highest_accuracy = custom_val_acc\n",
        "        best_model_name = 'Custom CNN'\n",
        "        best_model_object = custom_cnn\n",
        "\n",
        "except Exception as e:\n",
        "    print(f\" Error evaluating Custom CNN: {e}. Skipping comparison.\")\n",
        "    # If Custom CNN evaluation fails, ensure best_model_name is not 'Custom CNN' initially\n",
        "    best_model_name = None # Initialize best_model_name only if Custom CNN is successfully evaluated\n",
        "\n",
        "# Add transfer learning results and update best model\n",
        "for model_name in models_to_compare:\n",
        "    model = trained_models[model_name]\n",
        "    # Use validation data for comparison, consistent with custom CNN\n",
        "    val_loss, val_accuracy = model.evaluate(x_val_resized, y_val, verbose=0)\n",
        "    model_comparison[model_name] = {\n",
        "        'val_accuracy': val_accuracy,\n",
        "        'val_loss': val_loss,\n",
        "        'parameters': model.count_params()\n",
        "    }\n",
        "    # Update best model if this transfer learning model is better\n",
        "    if val_accuracy > highest_accuracy:\n",
        "        highest_accuracy = val_accuracy\n",
        "        best_model_name = model_name\n",
        "        best_model_object = model\n",
        "\n",
        "# Display comparison table\n",
        "print(\"\\n MODEL PERFORMANCE COMPARISON:\")\n",
        "print(\"-\" * 70)\n",
        "print(f\"{'Model':<15} {'Val Accuracy':<15} {'Val Loss':<12} {'Parameters':<15}\")\n",
        "print(\"-\" * 70)\n",
        "\n",
        "# Sort models for display (optional but nice)\n",
        "sorted_models = sorted(model_comparison.items(), key=lambda item: item[1]['val_accuracy'], reverse=True)\n",
        "\n",
        "for model_name, metrics in sorted_models:\n",
        "    acc = metrics['val_accuracy']\n",
        "    loss = metrics['val_loss']\n",
        "    params = metrics['parameters']\n",
        "    print(f\"{model_name:<15} {acc:.4f} ({acc*100:.1f}%){'':<3} {loss:.4f}{'':<6} {params:,}\")\n",
        "\n",
        "print(\"-\" * 70)\n",
        "\n",
        "# Ensure a best model was found\n",
        "if best_model_object is not None:\n",
        "    print(f\"Best Model: {best_model_name} with {highest_accuracy:.4f} ({highest_accuracy*100:.2f}%) accuracy on validation data\")\n",
        "else:\n",
        "     print(\"No models were successfully evaluated for comparison.\")\n"
      ],
      "metadata": {
        "colab": {
          "base_uri": "https://localhost:8080/"
        },
        "id": "Po0eiI9Dua-e",
        "outputId": "c7ca9acb-d0d4-4d01-a05f-f3d6682f1e18"
      },
      "execution_count": null,
      "outputs": [
        {
          "output_type": "stream",
          "name": "stdout",
          "text": [
            "\n",
            "=== MODEL COMPARISON ===\n",
            "\n",
            " MODEL PERFORMANCE COMPARISON:\n",
            "----------------------------------------------------------------------\n",
            "Model           Val Accuracy    Val Loss     Parameters     \n",
            "----------------------------------------------------------------------\n",
            "Custom CNN      0.1025 (10.2%)    2.3026       1,469,994\n",
            "ResNet50        0.1014 (10.1%)    4.3535       23,851,274\n",
            "MobileNetV2     0.1014 (10.1%)    6.4727       2,423,242\n",
            "VGG16           0.1003 (10.0%)    3.5511       14,781,642\n",
            "----------------------------------------------------------------------\n",
            "Best Model: Custom CNN with 0.1025 (10.25%) accuracy on validation data\n"
          ]
        }
      ]
    },
    {
      "cell_type": "code",
      "source": [
        "if best_model_object is not None:\n",
        "    print(f\"\\n=== DETAILED EVALUATION OF BEST MODEL ({best_model_name}) ===\")\n",
        "\n",
        "    # Use the appropriate test data based on the best model type\n",
        "    if best_model_name == 'Custom CNN':\n",
        "         x_test_for_best_model = x_test_final\n",
        "         y_test_for_best_model = y_test_final\n",
        "    else: # Transfer learning models use resized data\n",
        "         x_test_for_best_model = x_test_resized\n",
        "         y_test_for_best_model = y_test_final # y_test_final is already one-hot encoded\n",
        "\n",
        "    # Evaluate on test set\n",
        "    test_loss, test_accuracy = best_model_object.evaluate(x_test_for_best_model, y_test_for_best_model, verbose=0)\n",
        "    print(f\"Test Accuracy: {test_accuracy:.4f} ({test_accuracy*100:.2f}%)\")\n",
        "    print(f\"Test Loss: {test_loss:.4f}\")\n",
        "\n",
        "    # Generate predictions for confusion matrix\n",
        "    y_pred = best_model_object.predict(x_test_for_best_model, verbose=0)\n",
        "    y_pred_classes = np.argmax(y_pred, axis=1)\n",
        "    y_true_classes = np.argmax(y_test_for_best_model, axis=1)\n",
        "\n",
        "    # Classification report\n",
        "    print(f\"\\n Classification Report for {best_model_name}:\")\n",
        "    print(classification_report(y_true_classes, y_pred_classes, target_names=class_names))\n",
        "\n",
        "    # Confusion matrix\n",
        "    plt.figure(figsize=(10, 8))\n",
        "    cm = confusion_matrix(y_true_classes, y_pred_classes)\n",
        "    sns.heatmap(cm, annot=True, fmt='d', cmap='Blues',\n",
        "                xticklabels=class_names, yticklabels=class_names)\n",
        "    plt.title(f'Confusion Matrix - {best_model_name}')\n",
        "    plt.xlabel('Predicted')\n",
        "    plt.ylabel('True')\n",
        "    plt.xticks(rotation=45)\n",
        "    plt.yticks(rotation=0)\n",
        "    plt.tight_layout()\n",
        "    plt.show()\n",
        "\n",
        "    print(\"\\n\" + \"=\"*60)\n",
        "    print(\"MODEL EVALUATION COMPLETED!\")\n",
        "    print(\"=\"*60)\n",
        "    print(f\"Best performing model: {best_model_name}\")\n",
        "    print(\"=\"*60)\n",
        "else:\n",
        "    print(\"\\nCannot perform detailed evaluation as no best model was determined.\")"
      ],
      "metadata": {
        "id": "-i1InqWVuygr"
      },
      "execution_count": null,
      "outputs": []
    },
    {
      "cell_type": "markdown",
      "source": [
        "STEP 8: Evaluation of Best Model"
      ],
      "metadata": {
        "id": "WAFga6LPfOz3"
      }
    },
    {
      "cell_type": "code",
      "source": [
        "print(f\"\\n=== DETAILED EVALUATION OF BEST MODEL ({best_model_name}) ===\")\n",
        "\n",
        "best_model = trained_models[best_model_name]\n",
        "\n",
        "# Evaluate on test set\n",
        "test_loss, test_accuracy = best_model.evaluate(x_test_resized, y_test_final, verbose=0)\n",
        "print(f\"Test Accuracy: {test_accuracy:.4f} ({test_accuracy*100:.2f}%)\")\n",
        "print(f\"Test Loss: {test_loss:.4f}\")\n",
        "\n",
        "# Generate predictions for confusion matrix\n",
        "y_pred = best_model.predict(x_test_resized, verbose=0)\n",
        "y_pred_classes = np.argmax(y_pred, axis=1)\n",
        "y_true_classes = np.argmax(y_test_final, axis=1)\n",
        "\n",
        "# Classification report\n",
        "print(f\"\\n Classification Report for {best_model_name}:\")\n",
        "print(classification_report(y_true_classes, y_pred_classes, target_names=class_names))\n",
        "\n",
        "# Confusion matrix\n",
        "plt.figure(figsize=(10, 8))\n",
        "cm = confusion_matrix(y_true_classes, y_pred_classes)\n",
        "sns.heatmap(cm, annot=True, fmt='d', cmap='Blues',\n",
        "            xticklabels=class_names, yticklabels=class_names)\n",
        "plt.title(f'Confusion Matrix - {best_model_name}')\n",
        "plt.xlabel('Predicted')\n",
        "plt.ylabel('True')\n",
        "plt.xticks(rotation=45)\n",
        "plt.yticks(rotation=0)\n",
        "plt.tight_layout()\n",
        "plt.show()\n",
        "\n",
        "print(\"\\n\" + \"=\"*60)\n",
        "print(\"TRANSFER LEARNING COMPLETED!\")\n",
        "print(\"=\"*60)\n",
        "print(f\"Best performing model: {best_model_name}\")\n",
        "print(\"=\"*60)\n"
      ],
      "metadata": {
        "id": "V-vIO8HpfWKu"
      },
      "execution_count": null,
      "outputs": []
    }
  ]
}